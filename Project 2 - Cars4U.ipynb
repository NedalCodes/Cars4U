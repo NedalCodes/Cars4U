{
 "cells": [
  {
   "cell_type": "markdown",
   "metadata": {},
   "source": [
    "Author: Nedal Mohammad"
   ]
  },
  {
   "cell_type": "markdown",
   "metadata": {},
   "source": [
    "There is a huge demand for used cars in the Indian Market today. As sales of new cars have slowed down in the recent past, the pre-owned car market has continued to grow over the past years and is larger than the new car market now. Cars4U is a budding tech start-up that aims to find footholes in this market.\n",
    "\n",
    "In 2018-19, while new car sales were recorded at 3.6 million units, around 4 million second-hand cars were bought and sold. There is a slowdown in new car sales and that could mean that the demand is shifting towards the pre-owned market. In fact, some car sellers replace their old cars with pre-owned cars instead of buying new ones. Unlike new cars, where price and supply are fairly deterministic and managed by OEMs (Original Equipment Manufacturer / except for dealership level discounts which come into play only in the last stage of the customer journey), used cars are very different beasts with huge uncertainty in both pricing and supply. Keeping this in mind, the pricing scheme of these used cars becomes important in order to grow in the market.\n",
    "\n",
    "As a senior data scientist at Cars4U, you have to come up with a pricing model that can effectively predict the price of used cars and can help the business in devising profitable strategies using differential pricing. For example, if the business knows the market price, it will never sell anything below it. "
   ]
  },
  {
   "cell_type": "markdown",
   "metadata": {},
   "source": [
    "The purpose of this notebook is to create a linear model to predict the prices of used cars in the Indian Market. \n",
    "\n",
    "Objectives:\n",
    "1. Explore and visualize the dataset.\n",
    "2. Build a linear regression model to predict the prices of used cars.\n",
    "3. Generate a set of insights and reccomendations that will help the buisness.\n"
   ]
  },
  {
   "cell_type": "code",
   "execution_count": 1,
   "metadata": {},
   "outputs": [],
   "source": [
    "'''This is where all imports for the entire notebook will be'''\n",
    "#imports for data manipulation\n",
    "import pandas as pd\n",
    "import numpy as np\n",
    "\n",
    "#imports for visualization\n",
    "import seaborn as sns\n",
    "import matplotlib.pyplot as plt\n",
    "\n",
    "#imports for modeling\n",
    "from sklearn.model_selection import train_test_split #split the data for evaluation\n",
    "from sklearn.linear_model import LinearRegression #the actual model package\n",
    "from sklearn.metrics import mean_squared_error #evaluation metric\n",
    "from sklearn.metrics import r2_score #evaluation metric\n",
    "from sklearn.metrics import mean_absolute_error #evaluation metric\n",
    "from sklearn.preprocessing import StandardScaler #used for z transformation\n",
    "from scipy import stats #used for outlier detection\n",
    "\n",
    "#random imports\n",
    "import warnings\n",
    "warnings.filterwarnings('ignore')"
   ]
  },
  {
   "cell_type": "code",
   "execution_count": 2,
   "metadata": {},
   "outputs": [
    {
     "name": "stdout",
     "output_type": "stream",
     "text": [
      "There are 7253 rows and 14 columns.\n"
     ]
    }
   ],
   "source": [
    "#removes the limit for the number of displayed rows in a pandas dataframe:\n",
    "pd.set_option('display.max_rows', 100)\n",
    "\n",
    "#Load in the data\n",
    "data=pd.read_csv('used_cars_data.csv')\n",
    "print(f'There are {data.shape[0]} rows and {data.shape[1]} columns.')"
   ]
  },
  {
   "cell_type": "markdown",
   "metadata": {},
   "source": [
    "Data Dictionary:\n",
    "1. S.No. : Serial Number\n",
    "2. Name : Name of the car which includes Brand name and Model name\n",
    "3. Location : The location in which the car is being sold or is available for purchase Cities\n",
    "4. Year : Manufacturing year of the car\n",
    "5. Kilometers_driven : The total kilometers driven in the car by the previous owner(s) in KM.\n",
    "6. Fuel_Type : The type of fuel used by the car. (Petrol, Diesel, Electric, CNG, LPG)\n",
    "7. Transmission : The type of transmission used by the car. (Automatic / Manual)\n",
    "8. Owner : Type of ownership\n",
    "9. Mileage : The standard mileage offered by the car company in kmpl or km/kg\n",
    "10. Engine : The displacement volume of the engine in CC.\n",
    "11. Power : The maximum power of the engine in bhp.\n",
    "12. Seats : The number of seats in the car.\n",
    "13. New_Price : The price of a new car of the same model in INR Lakhs.(1 Lakh = 100, 000)\n",
    "14. Price : The price of the used car in INR Lakhs (1 Lakh = 100, 000)\n",
    " "
   ]
  },
  {
   "cell_type": "code",
   "execution_count": 3,
   "metadata": {},
   "outputs": [
    {
     "data": {
      "text/html": [
       "<div>\n",
       "<style scoped>\n",
       "    .dataframe tbody tr th:only-of-type {\n",
       "        vertical-align: middle;\n",
       "    }\n",
       "\n",
       "    .dataframe tbody tr th {\n",
       "        vertical-align: top;\n",
       "    }\n",
       "\n",
       "    .dataframe thead th {\n",
       "        text-align: right;\n",
       "    }\n",
       "</style>\n",
       "<table border=\"1\" class=\"dataframe\">\n",
       "  <thead>\n",
       "    <tr style=\"text-align: right;\">\n",
       "      <th></th>\n",
       "      <th>S.No.</th>\n",
       "      <th>Name</th>\n",
       "      <th>Location</th>\n",
       "      <th>Year</th>\n",
       "      <th>Kilometers_Driven</th>\n",
       "      <th>Fuel_Type</th>\n",
       "      <th>Transmission</th>\n",
       "      <th>Owner_Type</th>\n",
       "      <th>Mileage</th>\n",
       "      <th>Engine</th>\n",
       "      <th>Power</th>\n",
       "      <th>Seats</th>\n",
       "      <th>New_Price</th>\n",
       "      <th>Price</th>\n",
       "    </tr>\n",
       "  </thead>\n",
       "  <tbody>\n",
       "    <tr>\n",
       "      <th>0</th>\n",
       "      <td>0</td>\n",
       "      <td>Maruti Wagon R LXI CNG</td>\n",
       "      <td>Mumbai</td>\n",
       "      <td>2010</td>\n",
       "      <td>72000</td>\n",
       "      <td>CNG</td>\n",
       "      <td>Manual</td>\n",
       "      <td>First</td>\n",
       "      <td>26.6 km/kg</td>\n",
       "      <td>998 CC</td>\n",
       "      <td>58.16 bhp</td>\n",
       "      <td>5.0</td>\n",
       "      <td>NaN</td>\n",
       "      <td>1.75</td>\n",
       "    </tr>\n",
       "    <tr>\n",
       "      <th>1</th>\n",
       "      <td>1</td>\n",
       "      <td>Hyundai Creta 1.6 CRDi SX Option</td>\n",
       "      <td>Pune</td>\n",
       "      <td>2015</td>\n",
       "      <td>41000</td>\n",
       "      <td>Diesel</td>\n",
       "      <td>Manual</td>\n",
       "      <td>First</td>\n",
       "      <td>19.67 kmpl</td>\n",
       "      <td>1582 CC</td>\n",
       "      <td>126.2 bhp</td>\n",
       "      <td>5.0</td>\n",
       "      <td>NaN</td>\n",
       "      <td>12.50</td>\n",
       "    </tr>\n",
       "    <tr>\n",
       "      <th>2</th>\n",
       "      <td>2</td>\n",
       "      <td>Honda Jazz V</td>\n",
       "      <td>Chennai</td>\n",
       "      <td>2011</td>\n",
       "      <td>46000</td>\n",
       "      <td>Petrol</td>\n",
       "      <td>Manual</td>\n",
       "      <td>First</td>\n",
       "      <td>18.2 kmpl</td>\n",
       "      <td>1199 CC</td>\n",
       "      <td>88.7 bhp</td>\n",
       "      <td>5.0</td>\n",
       "      <td>8.61 Lakh</td>\n",
       "      <td>4.50</td>\n",
       "    </tr>\n",
       "    <tr>\n",
       "      <th>3</th>\n",
       "      <td>3</td>\n",
       "      <td>Maruti Ertiga VDI</td>\n",
       "      <td>Chennai</td>\n",
       "      <td>2012</td>\n",
       "      <td>87000</td>\n",
       "      <td>Diesel</td>\n",
       "      <td>Manual</td>\n",
       "      <td>First</td>\n",
       "      <td>20.77 kmpl</td>\n",
       "      <td>1248 CC</td>\n",
       "      <td>88.76 bhp</td>\n",
       "      <td>7.0</td>\n",
       "      <td>NaN</td>\n",
       "      <td>6.00</td>\n",
       "    </tr>\n",
       "    <tr>\n",
       "      <th>4</th>\n",
       "      <td>4</td>\n",
       "      <td>Audi A4 New 2.0 TDI Multitronic</td>\n",
       "      <td>Coimbatore</td>\n",
       "      <td>2013</td>\n",
       "      <td>40670</td>\n",
       "      <td>Diesel</td>\n",
       "      <td>Automatic</td>\n",
       "      <td>Second</td>\n",
       "      <td>15.2 kmpl</td>\n",
       "      <td>1968 CC</td>\n",
       "      <td>140.8 bhp</td>\n",
       "      <td>5.0</td>\n",
       "      <td>NaN</td>\n",
       "      <td>17.74</td>\n",
       "    </tr>\n",
       "  </tbody>\n",
       "</table>\n",
       "</div>"
      ],
      "text/plain": [
       "   S.No.                              Name    Location  Year  \\\n",
       "0      0            Maruti Wagon R LXI CNG      Mumbai  2010   \n",
       "1      1  Hyundai Creta 1.6 CRDi SX Option        Pune  2015   \n",
       "2      2                      Honda Jazz V     Chennai  2011   \n",
       "3      3                 Maruti Ertiga VDI     Chennai  2012   \n",
       "4      4   Audi A4 New 2.0 TDI Multitronic  Coimbatore  2013   \n",
       "\n",
       "   Kilometers_Driven Fuel_Type Transmission Owner_Type     Mileage   Engine  \\\n",
       "0              72000       CNG       Manual      First  26.6 km/kg   998 CC   \n",
       "1              41000    Diesel       Manual      First  19.67 kmpl  1582 CC   \n",
       "2              46000    Petrol       Manual      First   18.2 kmpl  1199 CC   \n",
       "3              87000    Diesel       Manual      First  20.77 kmpl  1248 CC   \n",
       "4              40670    Diesel    Automatic     Second   15.2 kmpl  1968 CC   \n",
       "\n",
       "       Power  Seats  New_Price  Price  \n",
       "0  58.16 bhp    5.0        NaN   1.75  \n",
       "1  126.2 bhp    5.0        NaN  12.50  \n",
       "2   88.7 bhp    5.0  8.61 Lakh   4.50  \n",
       "3  88.76 bhp    7.0        NaN   6.00  \n",
       "4  140.8 bhp    5.0        NaN  17.74  "
      ]
     },
     "execution_count": 3,
     "metadata": {},
     "output_type": "execute_result"
    }
   ],
   "source": [
    "#take a peak at the data\n",
    "data.head()"
   ]
  },
  {
   "cell_type": "markdown",
   "metadata": {},
   "source": [
    "Observations:\n",
    "1. Mileage is reported in multiple units, may be correlated with Fuel_Type\n",
    "2. Many values are missing in New_Price column\n",
    "3. S.No. Column appears to be a mimic of the pandas index, So it will be removed."
   ]
  },
  {
   "cell_type": "code",
   "execution_count": 4,
   "metadata": {},
   "outputs": [
    {
     "data": {
      "text/html": [
       "<div>\n",
       "<style scoped>\n",
       "    .dataframe tbody tr th:only-of-type {\n",
       "        vertical-align: middle;\n",
       "    }\n",
       "\n",
       "    .dataframe tbody tr th {\n",
       "        vertical-align: top;\n",
       "    }\n",
       "\n",
       "    .dataframe thead th {\n",
       "        text-align: right;\n",
       "    }\n",
       "</style>\n",
       "<table border=\"1\" class=\"dataframe\">\n",
       "  <thead>\n",
       "    <tr style=\"text-align: right;\">\n",
       "      <th></th>\n",
       "      <th>Name</th>\n",
       "      <th>Location</th>\n",
       "      <th>Year</th>\n",
       "      <th>Kilometers_Driven</th>\n",
       "      <th>Fuel_Type</th>\n",
       "      <th>Transmission</th>\n",
       "      <th>Owner_Type</th>\n",
       "      <th>Mileage</th>\n",
       "      <th>Engine</th>\n",
       "      <th>Power</th>\n",
       "      <th>Seats</th>\n",
       "      <th>New_Price</th>\n",
       "      <th>Price</th>\n",
       "    </tr>\n",
       "  </thead>\n",
       "  <tbody>\n",
       "    <tr>\n",
       "      <th>7248</th>\n",
       "      <td>Volkswagen Vento Diesel Trendline</td>\n",
       "      <td>Hyderabad</td>\n",
       "      <td>2011</td>\n",
       "      <td>89411</td>\n",
       "      <td>Diesel</td>\n",
       "      <td>Manual</td>\n",
       "      <td>First</td>\n",
       "      <td>20.54 kmpl</td>\n",
       "      <td>1598 CC</td>\n",
       "      <td>103.6 bhp</td>\n",
       "      <td>5.0</td>\n",
       "      <td>NaN</td>\n",
       "      <td>NaN</td>\n",
       "    </tr>\n",
       "    <tr>\n",
       "      <th>7249</th>\n",
       "      <td>Volkswagen Polo GT TSI</td>\n",
       "      <td>Mumbai</td>\n",
       "      <td>2015</td>\n",
       "      <td>59000</td>\n",
       "      <td>Petrol</td>\n",
       "      <td>Automatic</td>\n",
       "      <td>First</td>\n",
       "      <td>17.21 kmpl</td>\n",
       "      <td>1197 CC</td>\n",
       "      <td>103.6 bhp</td>\n",
       "      <td>5.0</td>\n",
       "      <td>NaN</td>\n",
       "      <td>NaN</td>\n",
       "    </tr>\n",
       "    <tr>\n",
       "      <th>7250</th>\n",
       "      <td>Nissan Micra Diesel XV</td>\n",
       "      <td>Kolkata</td>\n",
       "      <td>2012</td>\n",
       "      <td>28000</td>\n",
       "      <td>Diesel</td>\n",
       "      <td>Manual</td>\n",
       "      <td>First</td>\n",
       "      <td>23.08 kmpl</td>\n",
       "      <td>1461 CC</td>\n",
       "      <td>63.1 bhp</td>\n",
       "      <td>5.0</td>\n",
       "      <td>NaN</td>\n",
       "      <td>NaN</td>\n",
       "    </tr>\n",
       "    <tr>\n",
       "      <th>7251</th>\n",
       "      <td>Volkswagen Polo GT TSI</td>\n",
       "      <td>Pune</td>\n",
       "      <td>2013</td>\n",
       "      <td>52262</td>\n",
       "      <td>Petrol</td>\n",
       "      <td>Automatic</td>\n",
       "      <td>Third</td>\n",
       "      <td>17.2 kmpl</td>\n",
       "      <td>1197 CC</td>\n",
       "      <td>103.6 bhp</td>\n",
       "      <td>5.0</td>\n",
       "      <td>NaN</td>\n",
       "      <td>NaN</td>\n",
       "    </tr>\n",
       "    <tr>\n",
       "      <th>7252</th>\n",
       "      <td>Mercedes-Benz E-Class 2009-2013 E 220 CDI Avan...</td>\n",
       "      <td>Kochi</td>\n",
       "      <td>2014</td>\n",
       "      <td>72443</td>\n",
       "      <td>Diesel</td>\n",
       "      <td>Automatic</td>\n",
       "      <td>First</td>\n",
       "      <td>10.0 kmpl</td>\n",
       "      <td>2148 CC</td>\n",
       "      <td>170 bhp</td>\n",
       "      <td>5.0</td>\n",
       "      <td>NaN</td>\n",
       "      <td>NaN</td>\n",
       "    </tr>\n",
       "  </tbody>\n",
       "</table>\n",
       "</div>"
      ],
      "text/plain": [
       "                                                   Name   Location  Year  \\\n",
       "7248                  Volkswagen Vento Diesel Trendline  Hyderabad  2011   \n",
       "7249                             Volkswagen Polo GT TSI     Mumbai  2015   \n",
       "7250                             Nissan Micra Diesel XV    Kolkata  2012   \n",
       "7251                             Volkswagen Polo GT TSI       Pune  2013   \n",
       "7252  Mercedes-Benz E-Class 2009-2013 E 220 CDI Avan...      Kochi  2014   \n",
       "\n",
       "      Kilometers_Driven Fuel_Type Transmission Owner_Type     Mileage  \\\n",
       "7248              89411    Diesel       Manual      First  20.54 kmpl   \n",
       "7249              59000    Petrol    Automatic      First  17.21 kmpl   \n",
       "7250              28000    Diesel       Manual      First  23.08 kmpl   \n",
       "7251              52262    Petrol    Automatic      Third   17.2 kmpl   \n",
       "7252              72443    Diesel    Automatic      First   10.0 kmpl   \n",
       "\n",
       "       Engine      Power  Seats New_Price  Price  \n",
       "7248  1598 CC  103.6 bhp    5.0       NaN    NaN  \n",
       "7249  1197 CC  103.6 bhp    5.0       NaN    NaN  \n",
       "7250  1461 CC   63.1 bhp    5.0       NaN    NaN  \n",
       "7251  1197 CC  103.6 bhp    5.0       NaN    NaN  \n",
       "7252  2148 CC    170 bhp    5.0       NaN    NaN  "
      ]
     },
     "execution_count": 4,
     "metadata": {},
     "output_type": "execute_result"
    }
   ],
   "source": [
    "#This column contains no useful information, so it will be dropped\n",
    "data.drop(['S.No.'],axis=1,inplace=True)\n",
    "data.tail() # To verify the column was dropped"
   ]
  },
  {
   "cell_type": "code",
   "execution_count": 5,
   "metadata": {},
   "outputs": [
    {
     "name": "stdout",
     "output_type": "stream",
     "text": [
      "<class 'pandas.core.frame.DataFrame'>\n",
      "RangeIndex: 7253 entries, 0 to 7252\n",
      "Data columns (total 13 columns):\n",
      " #   Column             Non-Null Count  Dtype  \n",
      "---  ------             --------------  -----  \n",
      " 0   Name               7253 non-null   object \n",
      " 1   Location           7253 non-null   object \n",
      " 2   Year               7253 non-null   int64  \n",
      " 3   Kilometers_Driven  7253 non-null   int64  \n",
      " 4   Fuel_Type          7253 non-null   object \n",
      " 5   Transmission       7253 non-null   object \n",
      " 6   Owner_Type         7253 non-null   object \n",
      " 7   Mileage            7251 non-null   object \n",
      " 8   Engine             7207 non-null   object \n",
      " 9   Power              7207 non-null   object \n",
      " 10  Seats              7200 non-null   float64\n",
      " 11  New_Price          1006 non-null   object \n",
      " 12  Price              6019 non-null   float64\n",
      "dtypes: float64(2), int64(2), object(9)\n",
      "memory usage: 736.8+ KB\n"
     ]
    }
   ],
   "source": [
    "data.info()"
   ]
  },
  {
   "cell_type": "markdown",
   "metadata": {},
   "source": [
    "Do Not Contain Missing Values:\n",
    "\n",
    "0. Name is a string with datatype object, which is fine as it probably wont be useful in modeling.\n",
    "1. Location is a string with datatype object, -> change to categoric.\n",
    "2. Year is a number stored as int64, this is fine because linear regression could not handle date time object.\n",
    "3. Kilometers_Driven is a number stored as int64, which is fine.\n",
    "4. Fuel_Type is a categorical string stored as object, Convert to categoric\n",
    "5. Transmission is a categorical string stored as object, Convert to categoric\n",
    "6. Owner_Type is a categorical string stored as object, Convert to categoric\n",
    "Contain Missing Values:\n",
    "7. Mileage is a number stored as object. Entries contain the units with the amount. Convert to int64. Only 2 values are missing, I will investigate why these values are missing.\n",
    "8. Engine is a number stored as object. Entries are in cubic centimeters, Remove units and store as int64. 46 Rows are missing this value\n",
    "9. Power is a number stored as object. Entries are in brake horse power, remove units and store as float64. 46 rows are missing this value. \n",
    "10. Seats is a number stored as float 64, which is fine but consider converting to int64 to save memory. There are 53 missing values for the number of seats.\n",
    "11. New_price is a number stored as object. Entries contain the currency with the amount. Remove units, and convert to float64. This column is also almost entirely missing from the dataset. 6247/7253 rows are missing a value in this column. Consider dropping this column. \n",
    "12. Price is a number stored as a float64, which is fine."
   ]
  },
  {
   "cell_type": "code",
   "execution_count": 6,
   "metadata": {},
   "outputs": [
    {
     "data": {
      "text/plain": [
       "New_Price            6247\n",
       "Price                1234\n",
       "Seats                  53\n",
       "Power                  46\n",
       "Engine                 46\n",
       "Mileage                 2\n",
       "Owner_Type              0\n",
       "Transmission            0\n",
       "Fuel_Type               0\n",
       "Kilometers_Driven       0\n",
       "Year                    0\n",
       "Location                0\n",
       "Name                    0\n",
       "dtype: int64"
      ]
     },
     "execution_count": 6,
     "metadata": {},
     "output_type": "execute_result"
    }
   ],
   "source": [
    "#obtaining a missing value count per column and sorting it.\n",
    "data.isnull().sum().sort_values(ascending=False)"
   ]
  },
  {
   "cell_type": "markdown",
   "metadata": {},
   "source": [
    "Because almost all values for New_Price are null, i will drop this column"
   ]
  },
  {
   "cell_type": "code",
   "execution_count": 7,
   "metadata": {},
   "outputs": [],
   "source": [
    "data.drop(['New_Price'],axis=1,inplace=True)"
   ]
  },
  {
   "cell_type": "markdown",
   "metadata": {},
   "source": [
    "# Planning Preprocessing:"
   ]
  },
  {
   "cell_type": "markdown",
   "metadata": {},
   "source": [
    "Because of my domain knowledge surrounding cars. Earlier, I immediately noticed that there were some strange fuel types listed. And I also noticed some indicators that there was a correlation between the fuel type and the units that the mileage column was reported in. Because I need to find a way to somehow standardize the mileage column for analysis, I will take a moment to investigate this here before going into the preprocessing involved with each column."
   ]
  },
  {
   "cell_type": "code",
   "execution_count": 8,
   "metadata": {},
   "outputs": [
    {
     "data": {
      "text/plain": [
       "array(['CNG', 'Diesel', 'Petrol', 'LPG', 'Electric'], dtype=object)"
      ]
     },
     "execution_count": 8,
     "metadata": {},
     "output_type": "execute_result"
    }
   ],
   "source": [
    "data['Fuel_Type'].unique()"
   ]
  },
  {
   "cell_type": "markdown",
   "metadata": {},
   "source": [
    "Here we can see that the unique fuel types in the DataFrame are: 'CNG', 'Diesel', 'Petrol', 'LPG', 'Electric'. I had never heard of CNG or LPG used as a fuel in cars so I took a moment to look these acronyms up.\n",
    "1. CNG - Compressed Natural Gas (methane)\n",
    "2. LPG - Liquefied Petroleum Gas (mix of propane and butane)\n",
    "We can also see a fuel type called Electric, and I am immediately curious how the mileage is reported for this column(I would personally use KWh/km), as we had some NaN values in mileage. I will also look at each of the other fuel types and determine if the units used in mileage depend on the fuel type."
   ]
  },
  {
   "cell_type": "code",
   "execution_count": 9,
   "metadata": {},
   "outputs": [
    {
     "data": {
      "text/html": [
       "<div>\n",
       "<style scoped>\n",
       "    .dataframe tbody tr th:only-of-type {\n",
       "        vertical-align: middle;\n",
       "    }\n",
       "\n",
       "    .dataframe tbody tr th {\n",
       "        vertical-align: top;\n",
       "    }\n",
       "\n",
       "    .dataframe thead th {\n",
       "        text-align: right;\n",
       "    }\n",
       "</style>\n",
       "<table border=\"1\" class=\"dataframe\">\n",
       "  <thead>\n",
       "    <tr style=\"text-align: right;\">\n",
       "      <th></th>\n",
       "      <th>Name</th>\n",
       "      <th>Location</th>\n",
       "      <th>Year</th>\n",
       "      <th>Kilometers_Driven</th>\n",
       "      <th>Fuel_Type</th>\n",
       "      <th>Transmission</th>\n",
       "      <th>Owner_Type</th>\n",
       "      <th>Mileage</th>\n",
       "      <th>Engine</th>\n",
       "      <th>Power</th>\n",
       "      <th>Seats</th>\n",
       "      <th>Price</th>\n",
       "    </tr>\n",
       "  </thead>\n",
       "  <tbody>\n",
       "    <tr>\n",
       "      <th>4446</th>\n",
       "      <td>Mahindra E Verito D4</td>\n",
       "      <td>Chennai</td>\n",
       "      <td>2016</td>\n",
       "      <td>50000</td>\n",
       "      <td>Electric</td>\n",
       "      <td>Automatic</td>\n",
       "      <td>First</td>\n",
       "      <td>NaN</td>\n",
       "      <td>72 CC</td>\n",
       "      <td>41 bhp</td>\n",
       "      <td>5.0</td>\n",
       "      <td>13.00</td>\n",
       "    </tr>\n",
       "    <tr>\n",
       "      <th>4904</th>\n",
       "      <td>Toyota Prius 2009-2016 Z4</td>\n",
       "      <td>Mumbai</td>\n",
       "      <td>2011</td>\n",
       "      <td>44000</td>\n",
       "      <td>Electric</td>\n",
       "      <td>Automatic</td>\n",
       "      <td>First</td>\n",
       "      <td>NaN</td>\n",
       "      <td>1798 CC</td>\n",
       "      <td>73 bhp</td>\n",
       "      <td>5.0</td>\n",
       "      <td>12.75</td>\n",
       "    </tr>\n",
       "  </tbody>\n",
       "</table>\n",
       "</div>"
      ],
      "text/plain": [
       "                           Name Location  Year  Kilometers_Driven Fuel_Type  \\\n",
       "4446       Mahindra E Verito D4  Chennai  2016              50000  Electric   \n",
       "4904  Toyota Prius 2009-2016 Z4   Mumbai  2011              44000  Electric   \n",
       "\n",
       "     Transmission Owner_Type Mileage   Engine   Power  Seats  Price  \n",
       "4446    Automatic      First     NaN    72 CC  41 bhp    5.0  13.00  \n",
       "4904    Automatic      First     NaN  1798 CC  73 bhp    5.0  12.75  "
      ]
     },
     "execution_count": 9,
     "metadata": {},
     "output_type": "execute_result"
    }
   ],
   "source": [
    "data[data['Fuel_Type' ] == 'Electric']"
   ]
  },
  {
   "cell_type": "code",
   "execution_count": 10,
   "metadata": {},
   "outputs": [
    {
     "data": {
      "text/plain": [
       "Name                 2\n",
       "Location             2\n",
       "Year                 2\n",
       "Kilometers_Driven    2\n",
       "Fuel_Type            2\n",
       "Transmission         2\n",
       "Owner_Type           2\n",
       "Mileage              0\n",
       "Engine               2\n",
       "Power                2\n",
       "Seats                2\n",
       "Price                2\n",
       "dtype: int64"
      ]
     },
     "execution_count": 10,
     "metadata": {},
     "output_type": "execute_result"
    }
   ],
   "source": [
    "'''\n",
    "This shows that 0 values were reported for mileage \n",
    "and only 1 value is reported for new_price\n",
    "'''\n",
    "data[data['Fuel_Type' ] == 'Electric'].count()"
   ]
  },
  {
   "cell_type": "markdown",
   "metadata": {},
   "source": [
    "There are two Cars in the database that run on electric fuel type and the mileage for these rows is NaN! This means we found a pattern in the missingness. All of the missing values for mileage correspond to electric cars."
   ]
  },
  {
   "cell_type": "code",
   "execution_count": 11,
   "metadata": {},
   "outputs": [],
   "source": [
    "'''\n",
    "This block of code uses a for-loop to compute the number of times each unit type\n",
    "is used in the mileage column\n",
    "is used in each category of fuel type. \n",
    "'''\n",
    "def determine_units_mileage(Fuel_Type):\n",
    "    count=data[data['Fuel_Type'] == Fuel_Type]['Mileage'].count() #the total number of rows with this fuel type\n",
    "    kmkg_count=0 #initializing counting variables to 0\n",
    "    kmpl_count=0\n",
    "    error=0\n",
    "    for i in data[data['Fuel_Type'] == Fuel_Type]['Mileage']: #for each row, check whether it ends with km/kg or kmpl\n",
    "        if i.split()[1]=='km/kg':\n",
    "            kmkg_count+=1\n",
    "        elif i.split()[1]=='kmpl':\n",
    "            kmpl_count+=1\n",
    "        else:\n",
    "            error+=1 #if it ends with something else, report an error\n",
    "    print(f'There are {kmkg_count} values for the {Fuel_Type} fuel type where the mileage column is reported in km/kg units.')\n",
    "    print(f'There are {kmpl_count} values for the {Fuel_Type} fuel type where the mileage column is reported in kmpl units.')\n",
    "    print(f'This did not work for {error} rows.')\n",
    "    print(f'There are {count} rows with fuel type {Fuel_Type}')"
   ]
  },
  {
   "cell_type": "code",
   "execution_count": 12,
   "metadata": {},
   "outputs": [
    {
     "name": "stdout",
     "output_type": "stream",
     "text": [
      "There are 62 values for the CNG fuel type where the mileage column is reported in km/kg units.\n",
      "There are 0 values for the CNG fuel type where the mileage column is reported in kmpl units.\n",
      "This did not work for 0 rows.\n",
      "There are 62 rows with fuel type CNG\n"
     ]
    }
   ],
   "source": [
    "determine_units_mileage('CNG')\n"
   ]
  },
  {
   "cell_type": "markdown",
   "metadata": {},
   "source": [
    "Here, we can see that if a car uses CNG fuel type, then its mileage will be reported in km/kg every single time. I will do the same for the other fuel types to verify a pattern"
   ]
  },
  {
   "cell_type": "code",
   "execution_count": 13,
   "metadata": {},
   "outputs": [
    {
     "name": "stdout",
     "output_type": "stream",
     "text": [
      "There are 12 values for the LPG fuel type where the mileage column is reported in km/kg units.\n",
      "There are 0 values for the LPG fuel type where the mileage column is reported in kmpl units.\n",
      "This did not work for 0 rows.\n",
      "There are 12 rows with fuel type LPG\n"
     ]
    }
   ],
   "source": [
    "determine_units_mileage('LPG')"
   ]
  },
  {
   "cell_type": "markdown",
   "metadata": {},
   "source": [
    "After looking through LPG fuel type subset of the DataFrame, I determined that every value for mileage is reported in km/kg. This is good to know."
   ]
  },
  {
   "cell_type": "code",
   "execution_count": 14,
   "metadata": {},
   "outputs": [
    {
     "name": "stdout",
     "output_type": "stream",
     "text": [
      "There are 0 values for the Diesel fuel type where the mileage column is reported in km/kg units.\n",
      "There are 3852 values for the Diesel fuel type where the mileage column is reported in kmpl units.\n",
      "This did not work for 0 rows.\n",
      "There are 3852 rows with fuel type Diesel\n"
     ]
    }
   ],
   "source": [
    "determine_units_mileage('Diesel')"
   ]
  },
  {
   "cell_type": "code",
   "execution_count": 15,
   "metadata": {},
   "outputs": [
    {
     "name": "stdout",
     "output_type": "stream",
     "text": [
      "There are 0 values for the Petrol fuel type where the mileage column is reported in km/kg units.\n",
      "There are 3325 values for the Petrol fuel type where the mileage column is reported in kmpl units.\n",
      "This did not work for 0 rows.\n",
      "There are 3325 rows with fuel type Petrol\n"
     ]
    }
   ],
   "source": [
    "determine_units_mileage('Petrol')"
   ]
  },
  {
   "cell_type": "markdown",
   "metadata": {},
   "source": [
    "Now we have determined:\n",
    "1. if the fuel type is CNG or LPG, the mileage column is reported in kg/km\n",
    "2. if the fuel type is Diesel or Petrol, the mileage column is reported in kmpl\n",
    "3. if the fuel type is Electric, there is no value in the mileage column\n",
    "\n",
    "Action to take:\n",
    "It probably would not be reasonable to convert one to the other using the density of the fuel. After some reading, I believe this would not make the mileage column useful to ML algorithms. It would most likely skew the mean between two massive peaks. This is because converting km/kg to kmpl for a low density fuel results in a very small value for kmpl. Instead I will try to convert all values into cost in Rupees/km. This will give a strong meaning to the column, as it represents to cost to drive the car. This will be involved with feature engineering section"
   ]
  },
  {
   "cell_type": "code",
   "execution_count": 16,
   "metadata": {},
   "outputs": [
    {
     "data": {
      "text/plain": [
       "array(['Manual', 'Automatic'], dtype=object)"
      ]
     },
     "execution_count": 16,
     "metadata": {},
     "output_type": "execute_result"
    }
   ],
   "source": [
    "data['Transmission'].unique()"
   ]
  },
  {
   "cell_type": "markdown",
   "metadata": {},
   "source": [
    "Because there are only 2 values here, we can convert this column to a numeric easily by one hot encoding."
   ]
  },
  {
   "cell_type": "code",
   "execution_count": 17,
   "metadata": {},
   "outputs": [
    {
     "data": {
      "text/plain": [
       "array(['First', 'Second', 'Fourth & Above', 'Third'], dtype=object)"
      ]
     },
     "execution_count": 17,
     "metadata": {},
     "output_type": "execute_result"
    }
   ],
   "source": [
    "data['Owner_Type'].unique()"
   ]
  },
  {
   "cell_type": "markdown",
   "metadata": {},
   "source": [
    "This owner_type column will have to be one-hot encoded."
   ]
  },
  {
   "cell_type": "markdown",
   "metadata": {},
   "source": [
    "I will now verify that every value in the power and engine columns is reported in consistent units. This will allow me to simply drop the units."
   ]
  },
  {
   "cell_type": "code",
   "execution_count": 18,
   "metadata": {},
   "outputs": [
    {
     "name": "stdout",
     "output_type": "stream",
     "text": [
      "7207 rows report using bhp as the units, which equals the number of non-null values reported earlier\n"
     ]
    }
   ],
   "source": [
    "count=0 #initialize my count of rows using bhp unit to 0\n",
    "for i in data['Power']:\n",
    "    if str(i).endswith(' bhp')==True: #if the row ends with 'bhp', add 1 to count\n",
    "        count+=1\n",
    "print(count, 'rows report using bhp as the units, which equals the number of non-null values reported earlier')"
   ]
  },
  {
   "cell_type": "markdown",
   "metadata": {},
   "source": [
    "Because all rows in the Power column use the same units, the units can safely be dropped, and that is how I will preprocess this data."
   ]
  },
  {
   "cell_type": "code",
   "execution_count": 19,
   "metadata": {},
   "outputs": [
    {
     "name": "stdout",
     "output_type": "stream",
     "text": [
      "7207 rows report using CC as the units, which equals the number of non-null values\n"
     ]
    }
   ],
   "source": [
    "count=0 #initialize my count of rows using CC unit to 0\n",
    "for i in data['Engine']:\n",
    "    if str(i).endswith('CC')==True: #if the row ends with 'CC', add 1 to count\n",
    "        count+=1\n",
    "print(count, 'rows report using CC as the units, which equals the number of non-null values')"
   ]
  },
  {
   "cell_type": "markdown",
   "metadata": {},
   "source": [
    "Because all rows in Engine column use the same units, we can safely and simply drop the units for our preprocessing steps. "
   ]
  },
  {
   "cell_type": "markdown",
   "metadata": {},
   "source": [
    "### Removing units from Engine, Mileage, and Power columns"
   ]
  },
  {
   "cell_type": "code",
   "execution_count": 20,
   "metadata": {
    "scrolled": true
   },
   "outputs": [
    {
     "data": {
      "text/html": [
       "<div>\n",
       "<style scoped>\n",
       "    .dataframe tbody tr th:only-of-type {\n",
       "        vertical-align: middle;\n",
       "    }\n",
       "\n",
       "    .dataframe tbody tr th {\n",
       "        vertical-align: top;\n",
       "    }\n",
       "\n",
       "    .dataframe thead th {\n",
       "        text-align: right;\n",
       "    }\n",
       "</style>\n",
       "<table border=\"1\" class=\"dataframe\">\n",
       "  <thead>\n",
       "    <tr style=\"text-align: right;\">\n",
       "      <th></th>\n",
       "      <th>Name</th>\n",
       "      <th>Location</th>\n",
       "      <th>Year</th>\n",
       "      <th>Kilometers_Driven</th>\n",
       "      <th>Fuel_Type</th>\n",
       "      <th>Transmission</th>\n",
       "      <th>Owner_Type</th>\n",
       "      <th>Mileage</th>\n",
       "      <th>Engine</th>\n",
       "      <th>Power</th>\n",
       "      <th>Seats</th>\n",
       "      <th>Price</th>\n",
       "    </tr>\n",
       "  </thead>\n",
       "  <tbody>\n",
       "    <tr>\n",
       "      <th>0</th>\n",
       "      <td>Maruti Wagon R LXI CNG</td>\n",
       "      <td>Mumbai</td>\n",
       "      <td>2010</td>\n",
       "      <td>72000</td>\n",
       "      <td>CNG</td>\n",
       "      <td>Manual</td>\n",
       "      <td>First</td>\n",
       "      <td>26.60</td>\n",
       "      <td>998.0</td>\n",
       "      <td>58.16</td>\n",
       "      <td>5.0</td>\n",
       "      <td>1.75</td>\n",
       "    </tr>\n",
       "    <tr>\n",
       "      <th>1</th>\n",
       "      <td>Hyundai Creta 1.6 CRDi SX Option</td>\n",
       "      <td>Pune</td>\n",
       "      <td>2015</td>\n",
       "      <td>41000</td>\n",
       "      <td>Diesel</td>\n",
       "      <td>Manual</td>\n",
       "      <td>First</td>\n",
       "      <td>19.67</td>\n",
       "      <td>1582.0</td>\n",
       "      <td>126.20</td>\n",
       "      <td>5.0</td>\n",
       "      <td>12.50</td>\n",
       "    </tr>\n",
       "    <tr>\n",
       "      <th>2</th>\n",
       "      <td>Honda Jazz V</td>\n",
       "      <td>Chennai</td>\n",
       "      <td>2011</td>\n",
       "      <td>46000</td>\n",
       "      <td>Petrol</td>\n",
       "      <td>Manual</td>\n",
       "      <td>First</td>\n",
       "      <td>18.20</td>\n",
       "      <td>1199.0</td>\n",
       "      <td>88.70</td>\n",
       "      <td>5.0</td>\n",
       "      <td>4.50</td>\n",
       "    </tr>\n",
       "    <tr>\n",
       "      <th>3</th>\n",
       "      <td>Maruti Ertiga VDI</td>\n",
       "      <td>Chennai</td>\n",
       "      <td>2012</td>\n",
       "      <td>87000</td>\n",
       "      <td>Diesel</td>\n",
       "      <td>Manual</td>\n",
       "      <td>First</td>\n",
       "      <td>20.77</td>\n",
       "      <td>1248.0</td>\n",
       "      <td>88.76</td>\n",
       "      <td>7.0</td>\n",
       "      <td>6.00</td>\n",
       "    </tr>\n",
       "    <tr>\n",
       "      <th>4</th>\n",
       "      <td>Audi A4 New 2.0 TDI Multitronic</td>\n",
       "      <td>Coimbatore</td>\n",
       "      <td>2013</td>\n",
       "      <td>40670</td>\n",
       "      <td>Diesel</td>\n",
       "      <td>Automatic</td>\n",
       "      <td>Second</td>\n",
       "      <td>15.20</td>\n",
       "      <td>1968.0</td>\n",
       "      <td>140.80</td>\n",
       "      <td>5.0</td>\n",
       "      <td>17.74</td>\n",
       "    </tr>\n",
       "  </tbody>\n",
       "</table>\n",
       "</div>"
      ],
      "text/plain": [
       "                               Name    Location  Year  Kilometers_Driven  \\\n",
       "0            Maruti Wagon R LXI CNG      Mumbai  2010              72000   \n",
       "1  Hyundai Creta 1.6 CRDi SX Option        Pune  2015              41000   \n",
       "2                      Honda Jazz V     Chennai  2011              46000   \n",
       "3                 Maruti Ertiga VDI     Chennai  2012              87000   \n",
       "4   Audi A4 New 2.0 TDI Multitronic  Coimbatore  2013              40670   \n",
       "\n",
       "  Fuel_Type Transmission Owner_Type  Mileage  Engine   Power  Seats  Price  \n",
       "0       CNG       Manual      First    26.60   998.0   58.16    5.0   1.75  \n",
       "1    Diesel       Manual      First    19.67  1582.0  126.20    5.0  12.50  \n",
       "2    Petrol       Manual      First    18.20  1199.0   88.70    5.0   4.50  \n",
       "3    Diesel       Manual      First    20.77  1248.0   88.76    7.0   6.00  \n",
       "4    Diesel    Automatic     Second    15.20  1968.0  140.80    5.0  17.74  "
      ]
     },
     "execution_count": 20,
     "metadata": {},
     "output_type": "execute_result"
    }
   ],
   "source": [
    "def remove_units(value):\n",
    "    '''\n",
    "    Remove the units from something of the form '678 CC' or '654 bhp' so that it becomes the form\n",
    "    '678' or '654'. also change the data type\n",
    "    '''\n",
    "    if isinstance(value, str): #check if the cell is a string\n",
    "        if value.lower().split()[0]=='null': #if the cell is a string, and i split it and the first elemnt is 'null'\n",
    "            return np.nan #return not a number\n",
    "        #the above case occurs in the power column for some values only\n",
    "        else:\n",
    "            return float(value.lower().split()[0]) #otherwise the first element is a digit and i can return its float\n",
    "    else:\n",
    "        return np.nan #the last option in the data is that the cell already was NaN, so i return NaN\n",
    "remove_units_cols = ['Engine', 'Power','Mileage'] #the columns i can safely remove units from\n",
    "#can remove units from mileage now, because i have determined\n",
    "#that the units for mileage correspond to the fuel type\n",
    "for colname in remove_units_cols: #for each column i can safely remove units from\n",
    "    data[colname]=data[colname].apply(remove_units) #apply the function i wrote called Remove_units\n",
    "\n",
    "data.head()\n"
   ]
  },
  {
   "cell_type": "markdown",
   "metadata": {},
   "source": [
    "We can see that the units are now removed from both the Engine and Power columns. Earlier I had noticed that these columns had equal number of NaN values, and they all corresponded to eachother. But upon further investigation there are some instances when the Power column is reported as 'null bhp' before transformation. This means that sometimes I know Engine value but do not know the Power value. From domain knowledge, i suspect these variables to be highly correlated. So i will consider to attempt to fill values in the power column that are NaN if I have a value in the Engine column using a straight line fit. First I must verify a correlation. We will come back to this and for now continue doing general preprocessing on columns before attempting to fill missing values in columns."
   ]
  },
  {
   "cell_type": "code",
   "execution_count": 21,
   "metadata": {},
   "outputs": [
    {
     "name": "stdout",
     "output_type": "stream",
     "text": [
      "<class 'pandas.core.frame.DataFrame'>\n",
      "RangeIndex: 7253 entries, 0 to 7252\n",
      "Data columns (total 12 columns):\n",
      " #   Column             Non-Null Count  Dtype  \n",
      "---  ------             --------------  -----  \n",
      " 0   Name               7253 non-null   object \n",
      " 1   Location           7253 non-null   object \n",
      " 2   Year               7253 non-null   int64  \n",
      " 3   Kilometers_Driven  7253 non-null   int64  \n",
      " 4   Fuel_Type          7253 non-null   object \n",
      " 5   Transmission       7253 non-null   object \n",
      " 6   Owner_Type         7253 non-null   object \n",
      " 7   Mileage            7251 non-null   float64\n",
      " 8   Engine             7207 non-null   float64\n",
      " 9   Power              7078 non-null   float64\n",
      " 10  Seats              7200 non-null   float64\n",
      " 11  Price              6019 non-null   float64\n",
      "dtypes: float64(5), int64(2), object(5)\n",
      "memory usage: 680.1+ KB\n"
     ]
    }
   ],
   "source": [
    "data.info()"
   ]
  },
  {
   "cell_type": "markdown",
   "metadata": {},
   "source": [
    "## Fixing the Data Types"
   ]
  },
  {
   "cell_type": "code",
   "execution_count": 22,
   "metadata": {},
   "outputs": [
    {
     "name": "stdout",
     "output_type": "stream",
     "text": [
      "<class 'pandas.core.frame.DataFrame'>\n",
      "RangeIndex: 7253 entries, 0 to 7252\n",
      "Data columns (total 12 columns):\n",
      " #   Column             Non-Null Count  Dtype   \n",
      "---  ------             --------------  -----   \n",
      " 0   Name               7253 non-null   category\n",
      " 1   Location           7253 non-null   category\n",
      " 2   Year               7253 non-null   int64   \n",
      " 3   Kilometers_Driven  7253 non-null   int64   \n",
      " 4   Fuel_Type          7253 non-null   category\n",
      " 5   Transmission       7253 non-null   category\n",
      " 6   Owner_Type         7253 non-null   category\n",
      " 7   Mileage            7251 non-null   float64 \n",
      " 8   Engine             7207 non-null   float64 \n",
      " 9   Power              7078 non-null   float64 \n",
      " 10  Seats              7200 non-null   float64 \n",
      " 11  Price              6019 non-null   float64 \n",
      "dtypes: category(5), float64(5), int64(2)\n",
      "memory usage: 536.1 KB\n"
     ]
    }
   ],
   "source": [
    "data['Location']=data['Location'].astype('category')\n",
    "data['Fuel_Type']=data['Fuel_Type'].astype('category')\n",
    "data['Owner_Type']=data['Owner_Type'].astype('category')\n",
    "data['Name']=data['Name'].astype('category') \n",
    "data['Transmission']=data['Transmission'].astype('category')\n",
    "data.info()"
   ]
  },
  {
   "cell_type": "markdown",
   "metadata": {},
   "source": [
    "# Exploratory Data Analysis:"
   ]
  },
  {
   "cell_type": "markdown",
   "metadata": {},
   "source": [
    "I will start with a statistical summary of the data"
   ]
  },
  {
   "cell_type": "code",
   "execution_count": 23,
   "metadata": {},
   "outputs": [
    {
     "data": {
      "text/html": [
       "<div>\n",
       "<style scoped>\n",
       "    .dataframe tbody tr th:only-of-type {\n",
       "        vertical-align: middle;\n",
       "    }\n",
       "\n",
       "    .dataframe tbody tr th {\n",
       "        vertical-align: top;\n",
       "    }\n",
       "\n",
       "    .dataframe thead th {\n",
       "        text-align: right;\n",
       "    }\n",
       "</style>\n",
       "<table border=\"1\" class=\"dataframe\">\n",
       "  <thead>\n",
       "    <tr style=\"text-align: right;\">\n",
       "      <th></th>\n",
       "      <th>Year</th>\n",
       "      <th>Kilometers_Driven</th>\n",
       "      <th>Mileage</th>\n",
       "      <th>Engine</th>\n",
       "      <th>Power</th>\n",
       "      <th>Seats</th>\n",
       "      <th>Price</th>\n",
       "    </tr>\n",
       "  </thead>\n",
       "  <tbody>\n",
       "    <tr>\n",
       "      <th>count</th>\n",
       "      <td>7253.000000</td>\n",
       "      <td>7.253000e+03</td>\n",
       "      <td>7251.000000</td>\n",
       "      <td>7207.000000</td>\n",
       "      <td>7078.000000</td>\n",
       "      <td>7200.000000</td>\n",
       "      <td>6019.000000</td>\n",
       "    </tr>\n",
       "    <tr>\n",
       "      <th>mean</th>\n",
       "      <td>2013.365366</td>\n",
       "      <td>5.869906e+04</td>\n",
       "      <td>18.141580</td>\n",
       "      <td>1616.573470</td>\n",
       "      <td>112.765214</td>\n",
       "      <td>5.279722</td>\n",
       "      <td>9.479468</td>\n",
       "    </tr>\n",
       "    <tr>\n",
       "      <th>std</th>\n",
       "      <td>3.254421</td>\n",
       "      <td>8.442772e+04</td>\n",
       "      <td>4.562197</td>\n",
       "      <td>595.285137</td>\n",
       "      <td>53.493553</td>\n",
       "      <td>0.811660</td>\n",
       "      <td>11.187917</td>\n",
       "    </tr>\n",
       "    <tr>\n",
       "      <th>min</th>\n",
       "      <td>1996.000000</td>\n",
       "      <td>1.710000e+02</td>\n",
       "      <td>0.000000</td>\n",
       "      <td>72.000000</td>\n",
       "      <td>34.200000</td>\n",
       "      <td>0.000000</td>\n",
       "      <td>0.440000</td>\n",
       "    </tr>\n",
       "    <tr>\n",
       "      <th>25%</th>\n",
       "      <td>2011.000000</td>\n",
       "      <td>3.400000e+04</td>\n",
       "      <td>15.170000</td>\n",
       "      <td>1198.000000</td>\n",
       "      <td>75.000000</td>\n",
       "      <td>5.000000</td>\n",
       "      <td>3.500000</td>\n",
       "    </tr>\n",
       "    <tr>\n",
       "      <th>50%</th>\n",
       "      <td>2014.000000</td>\n",
       "      <td>5.341600e+04</td>\n",
       "      <td>18.160000</td>\n",
       "      <td>1493.000000</td>\n",
       "      <td>94.000000</td>\n",
       "      <td>5.000000</td>\n",
       "      <td>5.640000</td>\n",
       "    </tr>\n",
       "    <tr>\n",
       "      <th>75%</th>\n",
       "      <td>2016.000000</td>\n",
       "      <td>7.300000e+04</td>\n",
       "      <td>21.100000</td>\n",
       "      <td>1968.000000</td>\n",
       "      <td>138.100000</td>\n",
       "      <td>5.000000</td>\n",
       "      <td>9.950000</td>\n",
       "    </tr>\n",
       "    <tr>\n",
       "      <th>max</th>\n",
       "      <td>2019.000000</td>\n",
       "      <td>6.500000e+06</td>\n",
       "      <td>33.540000</td>\n",
       "      <td>5998.000000</td>\n",
       "      <td>616.000000</td>\n",
       "      <td>10.000000</td>\n",
       "      <td>160.000000</td>\n",
       "    </tr>\n",
       "  </tbody>\n",
       "</table>\n",
       "</div>"
      ],
      "text/plain": [
       "              Year  Kilometers_Driven      Mileage       Engine        Power  \\\n",
       "count  7253.000000       7.253000e+03  7251.000000  7207.000000  7078.000000   \n",
       "mean   2013.365366       5.869906e+04    18.141580  1616.573470   112.765214   \n",
       "std       3.254421       8.442772e+04     4.562197   595.285137    53.493553   \n",
       "min    1996.000000       1.710000e+02     0.000000    72.000000    34.200000   \n",
       "25%    2011.000000       3.400000e+04    15.170000  1198.000000    75.000000   \n",
       "50%    2014.000000       5.341600e+04    18.160000  1493.000000    94.000000   \n",
       "75%    2016.000000       7.300000e+04    21.100000  1968.000000   138.100000   \n",
       "max    2019.000000       6.500000e+06    33.540000  5998.000000   616.000000   \n",
       "\n",
       "             Seats        Price  \n",
       "count  7200.000000  6019.000000  \n",
       "mean      5.279722     9.479468  \n",
       "std       0.811660    11.187917  \n",
       "min       0.000000     0.440000  \n",
       "25%       5.000000     3.500000  \n",
       "50%       5.000000     5.640000  \n",
       "75%       5.000000     9.950000  \n",
       "max      10.000000   160.000000  "
      ]
     },
     "execution_count": 23,
     "metadata": {},
     "output_type": "execute_result"
    }
   ],
   "source": [
    "data.describe()"
   ]
  },
  {
   "cell_type": "markdown",
   "metadata": {},
   "source": [
    "1. Engine, Power, and Price are skewed. Because the Mean > Median these are all positively skewed\n",
    "2. I notice the range of values in Engine, Power, and Price is very large. This indicates some cars may be SuperCars and appear as outliers in the dataset."
   ]
  },
  {
   "cell_type": "code",
   "execution_count": 24,
   "metadata": {},
   "outputs": [
    {
     "data": {
      "text/html": [
       "<div>\n",
       "<style scoped>\n",
       "    .dataframe tbody tr th:only-of-type {\n",
       "        vertical-align: middle;\n",
       "    }\n",
       "\n",
       "    .dataframe tbody tr th {\n",
       "        vertical-align: top;\n",
       "    }\n",
       "\n",
       "    .dataframe thead th {\n",
       "        text-align: right;\n",
       "    }\n",
       "</style>\n",
       "<table border=\"1\" class=\"dataframe\">\n",
       "  <thead>\n",
       "    <tr style=\"text-align: right;\">\n",
       "      <th></th>\n",
       "      <th>Name</th>\n",
       "      <th>Location</th>\n",
       "      <th>Fuel_Type</th>\n",
       "      <th>Transmission</th>\n",
       "      <th>Owner_Type</th>\n",
       "    </tr>\n",
       "  </thead>\n",
       "  <tbody>\n",
       "    <tr>\n",
       "      <th>count</th>\n",
       "      <td>7253</td>\n",
       "      <td>7253</td>\n",
       "      <td>7253</td>\n",
       "      <td>7253</td>\n",
       "      <td>7253</td>\n",
       "    </tr>\n",
       "    <tr>\n",
       "      <th>unique</th>\n",
       "      <td>2041</td>\n",
       "      <td>11</td>\n",
       "      <td>5</td>\n",
       "      <td>2</td>\n",
       "      <td>4</td>\n",
       "    </tr>\n",
       "    <tr>\n",
       "      <th>top</th>\n",
       "      <td>Mahindra XUV500 W8 2WD</td>\n",
       "      <td>Mumbai</td>\n",
       "      <td>Diesel</td>\n",
       "      <td>Manual</td>\n",
       "      <td>First</td>\n",
       "    </tr>\n",
       "    <tr>\n",
       "      <th>freq</th>\n",
       "      <td>55</td>\n",
       "      <td>949</td>\n",
       "      <td>3852</td>\n",
       "      <td>5204</td>\n",
       "      <td>5952</td>\n",
       "    </tr>\n",
       "  </tbody>\n",
       "</table>\n",
       "</div>"
      ],
      "text/plain": [
       "                          Name Location Fuel_Type Transmission Owner_Type\n",
       "count                     7253     7253      7253         7253       7253\n",
       "unique                    2041       11         5            2          4\n",
       "top     Mahindra XUV500 W8 2WD   Mumbai    Diesel       Manual      First\n",
       "freq                        55      949      3852         5204       5952"
      ]
     },
     "execution_count": 24,
     "metadata": {},
     "output_type": "execute_result"
    }
   ],
   "source": [
    "data.describe(include=[\"category\"])"
   ]
  },
  {
   "cell_type": "markdown",
   "metadata": {},
   "source": [
    "1. There are too many unique names to encode so I will probably not use this feature in modeling, perhaps I can extract a new feature from it.\n",
    "2. All other columns have an appropriate amount of unique values for one hot encoding."
   ]
  },
  {
   "cell_type": "markdown",
   "metadata": {},
   "source": [
    "## Univariate Analysis"
   ]
  },
  {
   "cell_type": "code",
   "execution_count": 25,
   "metadata": {},
   "outputs": [],
   "source": [
    "# While doing uni-variate analysis of numerical variables we want to study their central tendency \n",
    "# and dispersion.\n",
    "# Let us write a function that will help us create boxplot and histogram for any input numerical \n",
    "# variable.\n",
    "# This function takes the numerical column as the input and returns the boxplots \n",
    "# and histograms for the variable.\n",
    "# Let us see if this help us write faster and cleaner code.\n",
    "def histogram_boxplot(feature, figsize=(15,10), bins = None):\n",
    "    \"\"\" Boxplot and histogram combined\n",
    "    feature: 1-d feature array\n",
    "    figsize: size of fig (default (9,8))\n",
    "    bins: number of bins (default None / auto)\n",
    "    \"\"\"\n",
    "    f2, (ax_box2, ax_hist2) = plt.subplots(nrows = 2, # Number of rows of the subplot grid= 2\n",
    "                                           sharex = False, # x-axis will be shared among all subplots\n",
    "                                           gridspec_kw = {\"height_ratios\": (.25, .75)}, \n",
    "                                           figsize = figsize \n",
    "                                           ) # creating the 2 subplots\n",
    "    sns.boxplot(feature, ax=ax_box2, showmeans=True, color='violet') # boxplot will be created and a star will indicate the mean value of the column\n",
    "    sns.distplot(feature, kde=F, ax=ax_hist2, bins=bins,palette=\"winter\") if bins else sns.distplot(feature, kde=False, ax=ax_hist2) # For histogram\n",
    "    ax_hist2.axvline(np.mean(feature), color='green', linestyle='--') # Add mean to the histogram\n",
    "    ax_hist2.axvline(np.median(feature), color='black', linestyle='-') # Add median to the histogram\n",
    "    \n",
    "def perc_on_bar(data, z):\n",
    "    \"\"\"\n",
    "    plot\n",
    "    feature: categorical feature\n",
    "    the function won't work if a column is passed in hue parameter\n",
    "    \"\"\"\n",
    "\n",
    "    total = len(data[z])  # length of the column\n",
    "    plt.figure(figsize=(15, 5))\n",
    "    plt.xticks(rotation=45)\n",
    "    ax = sns.countplot(data[z], palette=\"Paired\")\n",
    "    for p in ax.patches:\n",
    "        percentage = \"{:.1f}%\".format(\n",
    "            100 * p.get_height() / total\n",
    "        )  # percentage of each class of the category\n",
    "        x = p.get_x() + p.get_width() / 2 - 0.05  # width of the plot\n",
    "        y = p.get_y() + p.get_height()  # hieght of the plot\n",
    "\n",
    "        ax.annotate(percentage, (x, y), size=10)  # annotate the percantage\n",
    "    plt.show()  # show the plot"
   ]
  },
  {
   "cell_type": "code",
   "execution_count": 26,
   "metadata": {},
   "outputs": [
    {
     "data": {
      "image/png": "[encoded data removed]",
      "text/plain": [
       "<Figure size 1080x720 with 2 Axes>"
      ]
     },
     "metadata": {
      "needs_background": "light"
     },
     "output_type": "display_data"
    }
   ],
   "source": [
    "histogram_boxplot(data[\"Year\"])"
   ]
  },
  {
   "cell_type": "markdown",
   "metadata": {},
   "source": [
    "Close to a normal distribution for Year column."
   ]
  },
  {
   "cell_type": "code",
   "execution_count": 27,
   "metadata": {},
   "outputs": [
    {
     "data": {
      "image/png": "[encoded data removed]",
      "text/plain": [
       "<Figure size 1080x720 with 2 Axes>"
      ]
     },
     "metadata": {
      "needs_background": "light"
     },
     "output_type": "display_data"
    }
   ],
   "source": [
    "histogram_boxplot(data[\"Kilometers_Driven\"])"
   ]
  },
  {
   "cell_type": "markdown",
   "metadata": {},
   "source": [
    "There is a heavy right skew in Kilometers_Driven, and an outlier that needs to be removed."
   ]
  },
  {
   "cell_type": "code",
   "execution_count": 28,
   "metadata": {},
   "outputs": [
    {
     "data": {
      "image/png": "[encoded data removed]",
      "text/plain": [
       "<Figure size 1080x720 with 2 Axes>"
      ]
     },
     "metadata": {
      "needs_background": "light"
     },
     "output_type": "display_data"
    }
   ],
   "source": [
    "histogram_boxplot(data[\"Mileage\"])"
   ]
  },
  {
   "cell_type": "markdown",
   "metadata": {},
   "source": [
    "Shows a normal distribution with no skew."
   ]
  },
  {
   "cell_type": "code",
   "execution_count": 29,
   "metadata": {},
   "outputs": [
    {
     "data": {
      "image/png": "[encoded data removed]",
      "text/plain": [
       "<Figure size 1080x720 with 2 Axes>"
      ]
     },
     "metadata": {
      "needs_background": "light"
     },
     "output_type": "display_data"
    }
   ],
   "source": [
    "histogram_boxplot(data[\"Engine\"])"
   ]
  },
  {
   "cell_type": "markdown",
   "metadata": {},
   "source": [
    "Right skewed, I notice some rare cars are very powerful and appear as outliers."
   ]
  },
  {
   "cell_type": "code",
   "execution_count": 30,
   "metadata": {},
   "outputs": [
    {
     "data": {
      "image/png": "[encoded data removed]",
      "text/plain": [
       "<Figure size 1080x720 with 2 Axes>"
      ]
     },
     "metadata": {
      "needs_background": "light"
     },
     "output_type": "display_data"
    }
   ],
   "source": [
    "histogram_boxplot(data[\"Power\"])"
   ]
  },
  {
   "cell_type": "markdown",
   "metadata": {},
   "source": [
    "Right skewed, I notice some rare cars are very powerful and appear as outliers."
   ]
  },
  {
   "cell_type": "code",
   "execution_count": 31,
   "metadata": {},
   "outputs": [
    {
     "data": {
      "image/png": "[encoded data removed]",
      "text/plain": [
       "<Figure size 1080x720 with 2 Axes>"
      ]
     },
     "metadata": {
      "needs_background": "light"
     },
     "output_type": "display_data"
    }
   ],
   "source": [
    "histogram_boxplot(data[\"Seats\"])"
   ]
  },
  {
   "cell_type": "markdown",
   "metadata": {},
   "source": [
    "A vast majority of cars have 5 seats, while one has 0 seats. I think this is an outlier in the dataset that needs to be fixed."
   ]
  },
  {
   "cell_type": "code",
   "execution_count": 32,
   "metadata": {},
   "outputs": [
    {
     "data": {
      "image/png": "[encoded data removed]",
      "text/plain": [
       "<Figure size 1080x720 with 2 Axes>"
      ]
     },
     "metadata": {
      "needs_background": "light"
     },
     "output_type": "display_data"
    }
   ],
   "source": [
    "histogram_boxplot(data[\"Price\"])"
   ]
  },
  {
   "cell_type": "markdown",
   "metadata": {},
   "source": [
    "The heavy right skew matches that of power and Engine leading me to believe that more powerful cars are rare and appear as  expensive outliers here."
   ]
  },
  {
   "cell_type": "code",
   "execution_count": 33,
   "metadata": {},
   "outputs": [
    {
     "data": {
      "image/png": "[encoded data removed]",
      "text/plain": [
       "<Figure size 1080x360 with 1 Axes>"
      ]
     },
     "metadata": {
      "needs_background": "light"
     },
     "output_type": "display_data"
    }
   ],
   "source": [
    "perc_on_bar(data, 'Location')"
   ]
  },
  {
   "cell_type": "markdown",
   "metadata": {},
   "source": [
    "A substantial number of cars in each city. Most cars are in the most populated cities."
   ]
  },
  {
   "cell_type": "code",
   "execution_count": 34,
   "metadata": {},
   "outputs": [
    {
     "data": {
      "image/png": "[encoded data removed]",
      "text/plain": [
       "<Figure size 1080x360 with 1 Axes>"
      ]
     },
     "metadata": {
      "needs_background": "light"
     },
     "output_type": "display_data"
    }
   ],
   "source": [
    "perc_on_bar(data, 'Transmission')"
   ]
  },
  {
   "cell_type": "markdown",
   "metadata": {},
   "source": [
    "Most cars in the used market are Manual transmission."
   ]
  },
  {
   "cell_type": "code",
   "execution_count": 35,
   "metadata": {},
   "outputs": [
    {
     "data": {
      "image/png": "[encoded data removed]",
      "text/plain": [
       "<Figure size 1080x360 with 1 Axes>"
      ]
     },
     "metadata": {
      "needs_background": "light"
     },
     "output_type": "display_data"
    }
   ],
   "source": [
    "perc_on_bar(data, 'Fuel_Type')"
   ]
  },
  {
   "cell_type": "markdown",
   "metadata": {},
   "source": [
    "Almost all cars (99%) are Diesel or Petrol powered, only 2 cars are electric and LPG and CNG fuel types likewise make up only a small percentage of the cars"
   ]
  },
  {
   "cell_type": "code",
   "execution_count": 36,
   "metadata": {},
   "outputs": [
    {
     "data": {
      "image/png": "[encoded data removed]",
      "text/plain": [
       "<Figure size 1080x360 with 1 Axes>"
      ]
     },
     "metadata": {
      "needs_background": "light"
     },
     "output_type": "display_data"
    }
   ],
   "source": [
    "perc_on_bar(data, 'Owner_Type')"
   ]
  },
  {
   "cell_type": "markdown",
   "metadata": {},
   "source": [
    "Most used cars have only had 1 or 2 previous owners."
   ]
  },
  {
   "cell_type": "markdown",
   "metadata": {},
   "source": [
    "## Bivariate Analysis"
   ]
  },
  {
   "cell_type": "code",
   "execution_count": 37,
   "metadata": {},
   "outputs": [
    {
     "data": {
      "text/html": [
       "<div>\n",
       "<style scoped>\n",
       "    .dataframe tbody tr th:only-of-type {\n",
       "        vertical-align: middle;\n",
       "    }\n",
       "\n",
       "    .dataframe tbody tr th {\n",
       "        vertical-align: top;\n",
       "    }\n",
       "\n",
       "    .dataframe thead th {\n",
       "        text-align: right;\n",
       "    }\n",
       "</style>\n",
       "<table border=\"1\" class=\"dataframe\">\n",
       "  <thead>\n",
       "    <tr style=\"text-align: right;\">\n",
       "      <th></th>\n",
       "      <th>Year</th>\n",
       "      <th>Kilometers_Driven</th>\n",
       "      <th>Mileage</th>\n",
       "      <th>Engine</th>\n",
       "      <th>Power</th>\n",
       "      <th>Seats</th>\n",
       "      <th>Price</th>\n",
       "    </tr>\n",
       "  </thead>\n",
       "  <tbody>\n",
       "    <tr>\n",
       "      <th>Year</th>\n",
       "      <td>1.000000</td>\n",
       "      <td>-0.187859</td>\n",
       "      <td>0.322463</td>\n",
       "      <td>-0.054693</td>\n",
       "      <td>0.013432</td>\n",
       "      <td>0.008216</td>\n",
       "      <td>0.305327</td>\n",
       "    </tr>\n",
       "    <tr>\n",
       "      <th>Kilometers_Driven</th>\n",
       "      <td>-0.187859</td>\n",
       "      <td>1.000000</td>\n",
       "      <td>-0.069122</td>\n",
       "      <td>0.094818</td>\n",
       "      <td>0.030164</td>\n",
       "      <td>0.090221</td>\n",
       "      <td>-0.011493</td>\n",
       "    </tr>\n",
       "    <tr>\n",
       "      <th>Mileage</th>\n",
       "      <td>0.322463</td>\n",
       "      <td>-0.069122</td>\n",
       "      <td>1.000000</td>\n",
       "      <td>-0.593569</td>\n",
       "      <td>-0.531771</td>\n",
       "      <td>-0.310632</td>\n",
       "      <td>-0.306593</td>\n",
       "    </tr>\n",
       "    <tr>\n",
       "      <th>Engine</th>\n",
       "      <td>-0.054693</td>\n",
       "      <td>0.094818</td>\n",
       "      <td>-0.593569</td>\n",
       "      <td>1.000000</td>\n",
       "      <td>0.859771</td>\n",
       "      <td>0.399262</td>\n",
       "      <td>0.658354</td>\n",
       "    </tr>\n",
       "    <tr>\n",
       "      <th>Power</th>\n",
       "      <td>0.013432</td>\n",
       "      <td>0.030164</td>\n",
       "      <td>-0.531771</td>\n",
       "      <td>0.859771</td>\n",
       "      <td>1.000000</td>\n",
       "      <td>0.095905</td>\n",
       "      <td>0.772566</td>\n",
       "    </tr>\n",
       "    <tr>\n",
       "      <th>Seats</th>\n",
       "      <td>0.008216</td>\n",
       "      <td>0.090221</td>\n",
       "      <td>-0.310632</td>\n",
       "      <td>0.399262</td>\n",
       "      <td>0.095905</td>\n",
       "      <td>1.000000</td>\n",
       "      <td>0.052225</td>\n",
       "    </tr>\n",
       "    <tr>\n",
       "      <th>Price</th>\n",
       "      <td>0.305327</td>\n",
       "      <td>-0.011493</td>\n",
       "      <td>-0.306593</td>\n",
       "      <td>0.658354</td>\n",
       "      <td>0.772566</td>\n",
       "      <td>0.052225</td>\n",
       "      <td>1.000000</td>\n",
       "    </tr>\n",
       "  </tbody>\n",
       "</table>\n",
       "</div>"
      ],
      "text/plain": [
       "                       Year  Kilometers_Driven   Mileage    Engine     Power  \\\n",
       "Year               1.000000          -0.187859  0.322463 -0.054693  0.013432   \n",
       "Kilometers_Driven -0.187859           1.000000 -0.069122  0.094818  0.030164   \n",
       "Mileage            0.322463          -0.069122  1.000000 -0.593569 -0.531771   \n",
       "Engine            -0.054693           0.094818 -0.593569  1.000000  0.859771   \n",
       "Power              0.013432           0.030164 -0.531771  0.859771  1.000000   \n",
       "Seats              0.008216           0.090221 -0.310632  0.399262  0.095905   \n",
       "Price              0.305327          -0.011493 -0.306593  0.658354  0.772566   \n",
       "\n",
       "                      Seats     Price  \n",
       "Year               0.008216  0.305327  \n",
       "Kilometers_Driven  0.090221 -0.011493  \n",
       "Mileage           -0.310632 -0.306593  \n",
       "Engine             0.399262  0.658354  \n",
       "Power              0.095905  0.772566  \n",
       "Seats              1.000000  0.052225  \n",
       "Price              0.052225  1.000000  "
      ]
     },
     "execution_count": 37,
     "metadata": {},
     "output_type": "execute_result"
    }
   ],
   "source": [
    "data.corr()"
   ]
  },
  {
   "cell_type": "code",
   "execution_count": 38,
   "metadata": {},
   "outputs": [
    {
     "data": {
      "image/png": "[encoded data removed]",
      "text/plain": [
       "<Figure size 1080x360 with 2 Axes>"
      ]
     },
     "metadata": {
      "needs_background": "light"
     },
     "output_type": "display_data"
    }
   ],
   "source": [
    "plt.figure(figsize=(15,5))\n",
    "sns.heatmap(data.corr(),annot=True,vmax=1,vmin=-1)\n",
    "plt.title(\"HeatMap of Correlation Coefficients\")\n",
    "plt.show()"
   ]
  },
  {
   "cell_type": "markdown",
   "metadata": {},
   "source": [
    "Price is highly correlated with Power, Engine, Mileage, Year\n",
    "\n",
    "I will use a pairplot to visualize the numeric distributions:"
   ]
  },
  {
   "cell_type": "code",
   "execution_count": 39,
   "metadata": {},
   "outputs": [
    {
     "data": {
      "image/png": "[encoded data removed]",
      "text/plain": [
       "<Figure size 1260x1260 with 56 Axes>"
      ]
     },
     "metadata": {
      "needs_background": "light"
     },
     "output_type": "display_data"
    }
   ],
   "source": [
    "sns.pairplot(data=data)\n",
    "plt.show()"
   ]
  },
  {
   "cell_type": "markdown",
   "metadata": {},
   "source": [
    "Lets look at the last column here to see first how variables influence price:\n",
    "1. Year - Newer cars are more expensive\n",
    "2. Kilometers_Driven - Cars with more Km driven are cheaper\n",
    "3. Mileage - Mileage tends downward as cost increases\n",
    "4. Engine -  If a car has an engine with a high displacement, it becomes more expensive.\n",
    "5. Power - More powerful cars are more expensive.\n",
    "6. Seats - Cars with many seats are cheap. Otherwise, there is a pretty even distribution\n",
    "\n",
    "Other Correlations/notes:\n",
    "1. Engine and Power are highly linearly correlated.\n",
    "2. More Powerful cars have lower mileage\n",
    "3. There appears to be a hefty outlier in the Kilometers_Driven column\n",
    "4. There appears to be a car in the data with 0 seats."
   ]
  },
  {
   "cell_type": "markdown",
   "metadata": {},
   "source": [
    "Now to visualize categoric variable influence on Price:"
   ]
  },
  {
   "cell_type": "code",
   "execution_count": 40,
   "metadata": {},
   "outputs": [
    {
     "data": {
      "text/plain": [
       "<AxesSubplot:xlabel='Location', ylabel='Price'>"
      ]
     },
     "execution_count": 40,
     "metadata": {},
     "output_type": "execute_result"
    },
    {
     "data": {
      "image/png": "[encoded data removed]",
      "text/plain": [
       "<Figure size 720x360 with 1 Axes>"
      ]
     },
     "metadata": {
      "needs_background": "light"
     },
     "output_type": "display_data"
    }
   ],
   "source": [
    "plt.figure(figsize=(10, 5))\n",
    "sns.boxplot(x=\"Location\", y=\"Price\", data=data)"
   ]
  },
  {
   "cell_type": "markdown",
   "metadata": {},
   "source": [
    "I notice cities with the most cars have the highest variation in price"
   ]
  },
  {
   "cell_type": "code",
   "execution_count": 41,
   "metadata": {},
   "outputs": [
    {
     "data": {
      "text/plain": [
       "<AxesSubplot:xlabel='Transmission', ylabel='Price'>"
      ]
     },
     "execution_count": 41,
     "metadata": {},
     "output_type": "execute_result"
    },
    {
     "data": {
      "image/png": "[encoded data removed]",
      "text/plain": [
       "<Figure size 720x360 with 1 Axes>"
      ]
     },
     "metadata": {
      "needs_background": "light"
     },
     "output_type": "display_data"
    }
   ],
   "source": [
    "plt.figure(figsize=(10, 5))\n",
    "sns.boxplot(x=\"Transmission\", y=\"Price\", data=data)"
   ]
  },
  {
   "cell_type": "markdown",
   "metadata": {},
   "source": [
    "Automatic cars tend to cost more"
   ]
  },
  {
   "cell_type": "code",
   "execution_count": 42,
   "metadata": {},
   "outputs": [
    {
     "data": {
      "text/plain": [
       "<AxesSubplot:xlabel='Fuel_Type', ylabel='Price'>"
      ]
     },
     "execution_count": 42,
     "metadata": {},
     "output_type": "execute_result"
    },
    {
     "data": {
      "image/png": "[encoded data removed]",
      "text/plain": [
       "<Figure size 720x360 with 1 Axes>"
      ]
     },
     "metadata": {
      "needs_background": "light"
     },
     "output_type": "display_data"
    }
   ],
   "source": [
    "plt.figure(figsize=(10, 5))\n",
    "sns.boxplot(x=\"Fuel_Type\", y=\"Price\", data=data)"
   ]
  },
  {
   "cell_type": "markdown",
   "metadata": {},
   "source": [
    "Diesel and Petrol have expensive outliers while electric cars have a high median price.\n",
    "LPG and CNG cars in general cost the least."
   ]
  },
  {
   "cell_type": "code",
   "execution_count": 43,
   "metadata": {},
   "outputs": [
    {
     "data": {
      "text/plain": [
       "<AxesSubplot:xlabel='Owner_Type', ylabel='Price'>"
      ]
     },
     "execution_count": 43,
     "metadata": {},
     "output_type": "execute_result"
    },
    {
     "data": {
      "image/png": "[encoded data removed]",
      "text/plain": [
       "<Figure size 720x360 with 1 Axes>"
      ]
     },
     "metadata": {
      "needs_background": "light"
     },
     "output_type": "display_data"
    }
   ],
   "source": [
    "plt.figure(figsize=(10, 5))\n",
    "sns.boxplot(x=\"Owner_Type\", y=\"Price\", data=data)"
   ]
  },
  {
   "cell_type": "markdown",
   "metadata": {},
   "source": [
    "The more owners a car has had, the cheaper it becomes."
   ]
  },
  {
   "cell_type": "markdown",
   "metadata": {},
   "source": [
    "# Preprocessing:"
   ]
  },
  {
   "cell_type": "markdown",
   "metadata": {},
   "source": [
    "## Fixing some outliers"
   ]
  },
  {
   "cell_type": "code",
   "execution_count": 44,
   "metadata": {},
   "outputs": [
    {
     "data": {
      "text/plain": [
       "2328    6500000\n",
       "340      775000\n",
       "1860     720000\n",
       "358      620000\n",
       "2823     480000\n",
       "Name: Kilometers_Driven, dtype: int64"
      ]
     },
     "execution_count": 44,
     "metadata": {},
     "output_type": "execute_result"
    }
   ],
   "source": [
    "data['Kilometers_Driven'].sort_values(ascending=False).head()"
   ]
  },
  {
   "cell_type": "markdown",
   "metadata": {},
   "source": [
    "At index 2328 we have an error in the data showing that a car was driven 6.5 million km. I will remove this data point."
   ]
  },
  {
   "cell_type": "code",
   "execution_count": 45,
   "metadata": {},
   "outputs": [],
   "source": [
    "data.drop(2328, inplace=True)"
   ]
  },
  {
   "cell_type": "code",
   "execution_count": 46,
   "metadata": {},
   "outputs": [
    {
     "data": {
      "text/plain": [
       "340     775000\n",
       "1860    720000\n",
       "358     620000\n",
       "2823    480000\n",
       "3092    480000\n",
       "Name: Kilometers_Driven, dtype: int64"
      ]
     },
     "execution_count": 46,
     "metadata": {},
     "output_type": "execute_result"
    }
   ],
   "source": [
    "data['Kilometers_Driven'].sort_values(ascending=False).head()"
   ]
  },
  {
   "cell_type": "markdown",
   "metadata": {},
   "source": [
    "We can see now that this row has been dropped."
   ]
  },
  {
   "cell_type": "markdown",
   "metadata": {},
   "source": [
    "### Fixing bad data in seats column"
   ]
  },
  {
   "cell_type": "code",
   "execution_count": 47,
   "metadata": {},
   "outputs": [
    {
     "data": {
      "text/plain": [
       "array([ 5.,  7.,  8.,  4.,  6.,  2., nan, 10.,  9.,  0.])"
      ]
     },
     "execution_count": 47,
     "metadata": {},
     "output_type": "execute_result"
    }
   ],
   "source": [
    "data['Seats'].unique()"
   ]
  },
  {
   "cell_type": "markdown",
   "metadata": {},
   "source": [
    "no car should be listed with 0 seats. I will investigate."
   ]
  },
  {
   "cell_type": "code",
   "execution_count": 48,
   "metadata": {},
   "outputs": [
    {
     "data": {
      "text/html": [
       "<div>\n",
       "<style scoped>\n",
       "    .dataframe tbody tr th:only-of-type {\n",
       "        vertical-align: middle;\n",
       "    }\n",
       "\n",
       "    .dataframe tbody tr th {\n",
       "        vertical-align: top;\n",
       "    }\n",
       "\n",
       "    .dataframe thead th {\n",
       "        text-align: right;\n",
       "    }\n",
       "</style>\n",
       "<table border=\"1\" class=\"dataframe\">\n",
       "  <thead>\n",
       "    <tr style=\"text-align: right;\">\n",
       "      <th></th>\n",
       "      <th>Name</th>\n",
       "      <th>Location</th>\n",
       "      <th>Year</th>\n",
       "      <th>Kilometers_Driven</th>\n",
       "      <th>Fuel_Type</th>\n",
       "      <th>Transmission</th>\n",
       "      <th>Owner_Type</th>\n",
       "      <th>Mileage</th>\n",
       "      <th>Engine</th>\n",
       "      <th>Power</th>\n",
       "      <th>Seats</th>\n",
       "      <th>Price</th>\n",
       "    </tr>\n",
       "  </thead>\n",
       "  <tbody>\n",
       "    <tr>\n",
       "      <th>3999</th>\n",
       "      <td>Audi A4 3.2 FSI Tiptronic Quattro</td>\n",
       "      <td>Hyderabad</td>\n",
       "      <td>2012</td>\n",
       "      <td>125000</td>\n",
       "      <td>Petrol</td>\n",
       "      <td>Automatic</td>\n",
       "      <td>First</td>\n",
       "      <td>10.5</td>\n",
       "      <td>3197.0</td>\n",
       "      <td>NaN</td>\n",
       "      <td>0.0</td>\n",
       "      <td>18.0</td>\n",
       "    </tr>\n",
       "  </tbody>\n",
       "</table>\n",
       "</div>"
      ],
      "text/plain": [
       "                                   Name   Location  Year  Kilometers_Driven  \\\n",
       "3999  Audi A4 3.2 FSI Tiptronic Quattro  Hyderabad  2012             125000   \n",
       "\n",
       "     Fuel_Type Transmission Owner_Type  Mileage  Engine  Power  Seats  Price  \n",
       "3999    Petrol    Automatic      First     10.5  3197.0    NaN    0.0   18.0  "
      ]
     },
     "execution_count": 48,
     "metadata": {},
     "output_type": "execute_result"
    }
   ],
   "source": [
    "data[data['Seats'] == 0]"
   ]
  },
  {
   "cell_type": "markdown",
   "metadata": {},
   "source": [
    "Here we can see this car which is recorded as having 0 seats in the data frame. I looked up this car on google and determined it was an error in the data and should actually be 5 seats. So now I will change it."
   ]
  },
  {
   "cell_type": "code",
   "execution_count": 49,
   "metadata": {},
   "outputs": [
    {
     "data": {
      "text/plain": [
       "array([ 5.,  7.,  8.,  4.,  6.,  2., nan, 10.,  9.])"
      ]
     },
     "execution_count": 49,
     "metadata": {},
     "output_type": "execute_result"
    }
   ],
   "source": [
    "data['Seats']=data['Seats'].replace(0.0,5) #because there is only 1 value of 0 i can use this replace all fucntion here\n",
    "data['Seats'].unique()"
   ]
  },
  {
   "cell_type": "markdown",
   "metadata": {},
   "source": [
    "## Feature Engineering"
   ]
  },
  {
   "cell_type": "markdown",
   "metadata": {},
   "source": [
    "### Create New Feature Company "
   ]
  },
  {
   "cell_type": "code",
   "execution_count": 50,
   "metadata": {},
   "outputs": [],
   "source": [
    "data['Company'] = [x.split()[0].capitalize() for x in data['Name']]\n",
    "#the company name seems to be the first word in the name column, \n",
    "#we use capitalize() on it so that strings with consistent lettering and inconsistent caps/lowers become equal"
   ]
  },
  {
   "cell_type": "code",
   "execution_count": 51,
   "metadata": {},
   "outputs": [
    {
     "data": {
      "text/html": [
       "<div>\n",
       "<style scoped>\n",
       "    .dataframe tbody tr th:only-of-type {\n",
       "        vertical-align: middle;\n",
       "    }\n",
       "\n",
       "    .dataframe tbody tr th {\n",
       "        vertical-align: top;\n",
       "    }\n",
       "\n",
       "    .dataframe thead th {\n",
       "        text-align: right;\n",
       "    }\n",
       "</style>\n",
       "<table border=\"1\" class=\"dataframe\">\n",
       "  <thead>\n",
       "    <tr style=\"text-align: right;\">\n",
       "      <th></th>\n",
       "      <th>Name</th>\n",
       "      <th>Location</th>\n",
       "      <th>Year</th>\n",
       "      <th>Kilometers_Driven</th>\n",
       "      <th>Fuel_Type</th>\n",
       "      <th>Transmission</th>\n",
       "      <th>Owner_Type</th>\n",
       "      <th>Mileage</th>\n",
       "      <th>Engine</th>\n",
       "      <th>Power</th>\n",
       "      <th>Seats</th>\n",
       "      <th>Price</th>\n",
       "      <th>Company</th>\n",
       "    </tr>\n",
       "  </thead>\n",
       "  <tbody>\n",
       "    <tr>\n",
       "      <th>0</th>\n",
       "      <td>Maruti Wagon R LXI CNG</td>\n",
       "      <td>Mumbai</td>\n",
       "      <td>2010</td>\n",
       "      <td>72000</td>\n",
       "      <td>CNG</td>\n",
       "      <td>Manual</td>\n",
       "      <td>First</td>\n",
       "      <td>26.60</td>\n",
       "      <td>998.0</td>\n",
       "      <td>58.16</td>\n",
       "      <td>5.0</td>\n",
       "      <td>1.75</td>\n",
       "      <td>Maruti</td>\n",
       "    </tr>\n",
       "    <tr>\n",
       "      <th>1</th>\n",
       "      <td>Hyundai Creta 1.6 CRDi SX Option</td>\n",
       "      <td>Pune</td>\n",
       "      <td>2015</td>\n",
       "      <td>41000</td>\n",
       "      <td>Diesel</td>\n",
       "      <td>Manual</td>\n",
       "      <td>First</td>\n",
       "      <td>19.67</td>\n",
       "      <td>1582.0</td>\n",
       "      <td>126.20</td>\n",
       "      <td>5.0</td>\n",
       "      <td>12.50</td>\n",
       "      <td>Hyundai</td>\n",
       "    </tr>\n",
       "    <tr>\n",
       "      <th>2</th>\n",
       "      <td>Honda Jazz V</td>\n",
       "      <td>Chennai</td>\n",
       "      <td>2011</td>\n",
       "      <td>46000</td>\n",
       "      <td>Petrol</td>\n",
       "      <td>Manual</td>\n",
       "      <td>First</td>\n",
       "      <td>18.20</td>\n",
       "      <td>1199.0</td>\n",
       "      <td>88.70</td>\n",
       "      <td>5.0</td>\n",
       "      <td>4.50</td>\n",
       "      <td>Honda</td>\n",
       "    </tr>\n",
       "    <tr>\n",
       "      <th>3</th>\n",
       "      <td>Maruti Ertiga VDI</td>\n",
       "      <td>Chennai</td>\n",
       "      <td>2012</td>\n",
       "      <td>87000</td>\n",
       "      <td>Diesel</td>\n",
       "      <td>Manual</td>\n",
       "      <td>First</td>\n",
       "      <td>20.77</td>\n",
       "      <td>1248.0</td>\n",
       "      <td>88.76</td>\n",
       "      <td>7.0</td>\n",
       "      <td>6.00</td>\n",
       "      <td>Maruti</td>\n",
       "    </tr>\n",
       "    <tr>\n",
       "      <th>4</th>\n",
       "      <td>Audi A4 New 2.0 TDI Multitronic</td>\n",
       "      <td>Coimbatore</td>\n",
       "      <td>2013</td>\n",
       "      <td>40670</td>\n",
       "      <td>Diesel</td>\n",
       "      <td>Automatic</td>\n",
       "      <td>Second</td>\n",
       "      <td>15.20</td>\n",
       "      <td>1968.0</td>\n",
       "      <td>140.80</td>\n",
       "      <td>5.0</td>\n",
       "      <td>17.74</td>\n",
       "      <td>Audi</td>\n",
       "    </tr>\n",
       "  </tbody>\n",
       "</table>\n",
       "</div>"
      ],
      "text/plain": [
       "                               Name    Location  Year  Kilometers_Driven  \\\n",
       "0            Maruti Wagon R LXI CNG      Mumbai  2010              72000   \n",
       "1  Hyundai Creta 1.6 CRDi SX Option        Pune  2015              41000   \n",
       "2                      Honda Jazz V     Chennai  2011              46000   \n",
       "3                 Maruti Ertiga VDI     Chennai  2012              87000   \n",
       "4   Audi A4 New 2.0 TDI Multitronic  Coimbatore  2013              40670   \n",
       "\n",
       "  Fuel_Type Transmission Owner_Type  Mileage  Engine   Power  Seats  Price  \\\n",
       "0       CNG       Manual      First    26.60   998.0   58.16    5.0   1.75   \n",
       "1    Diesel       Manual      First    19.67  1582.0  126.20    5.0  12.50   \n",
       "2    Petrol       Manual      First    18.20  1199.0   88.70    5.0   4.50   \n",
       "3    Diesel       Manual      First    20.77  1248.0   88.76    7.0   6.00   \n",
       "4    Diesel    Automatic     Second    15.20  1968.0  140.80    5.0  17.74   \n",
       "\n",
       "   Company  \n",
       "0   Maruti  \n",
       "1  Hyundai  \n",
       "2    Honda  \n",
       "3   Maruti  \n",
       "4     Audi  "
      ]
     },
     "execution_count": 51,
     "metadata": {},
     "output_type": "execute_result"
    }
   ],
   "source": [
    "data.head()"
   ]
  },
  {
   "cell_type": "code",
   "execution_count": 52,
   "metadata": {},
   "outputs": [
    {
     "data": {
      "text/plain": [
       "array(['Maruti', 'Hyundai', 'Honda', 'Audi', 'Nissan', 'Toyota',\n",
       "       'Volkswagen', 'Tata', 'Land', 'Mitsubishi', 'Renault',\n",
       "       'Mercedes-benz', 'Bmw', 'Mahindra', 'Ford', 'Porsche', 'Datsun',\n",
       "       'Jaguar', 'Volvo', 'Chevrolet', 'Skoda', 'Mini', 'Fiat', 'Jeep',\n",
       "       'Smart', 'Ambassador', 'Isuzu', 'Force', 'Bentley', 'Lamborghini',\n",
       "       'Hindustan', 'Opelcorsa'], dtype=object)"
      ]
     },
     "execution_count": 52,
     "metadata": {},
     "output_type": "execute_result"
    }
   ],
   "source": [
    "data['Company'].unique()"
   ]
  },
  {
   "cell_type": "markdown",
   "metadata": {},
   "source": [
    "After a careful inspection, everything here seems to be in order."
   ]
  },
  {
   "cell_type": "code",
   "execution_count": 53,
   "metadata": {},
   "outputs": [],
   "source": [
    "data['Company']=data['Company'].astype('category')"
   ]
  },
  {
   "cell_type": "markdown",
   "metadata": {},
   "source": [
    "Company may be used in analysis therefore I will change the dtype to category"
   ]
  },
  {
   "cell_type": "markdown",
   "metadata": {},
   "source": [
    "###### Remove company from old name column"
   ]
  },
  {
   "cell_type": "code",
   "execution_count": 54,
   "metadata": {},
   "outputs": [],
   "source": [
    "data['Name']=[x.split()[1:] for x in data['Name']]\n",
    "#This will return a list of strings which would be good for NLP as it would be tokenized"
   ]
  },
  {
   "cell_type": "code",
   "execution_count": 55,
   "metadata": {},
   "outputs": [
    {
     "data": {
      "text/html": [
       "<div>\n",
       "<style scoped>\n",
       "    .dataframe tbody tr th:only-of-type {\n",
       "        vertical-align: middle;\n",
       "    }\n",
       "\n",
       "    .dataframe tbody tr th {\n",
       "        vertical-align: top;\n",
       "    }\n",
       "\n",
       "    .dataframe thead th {\n",
       "        text-align: right;\n",
       "    }\n",
       "</style>\n",
       "<table border=\"1\" class=\"dataframe\">\n",
       "  <thead>\n",
       "    <tr style=\"text-align: right;\">\n",
       "      <th></th>\n",
       "      <th>Name</th>\n",
       "      <th>Location</th>\n",
       "      <th>Year</th>\n",
       "      <th>Kilometers_Driven</th>\n",
       "      <th>Fuel_Type</th>\n",
       "      <th>Transmission</th>\n",
       "      <th>Owner_Type</th>\n",
       "      <th>Mileage</th>\n",
       "      <th>Engine</th>\n",
       "      <th>Power</th>\n",
       "      <th>Seats</th>\n",
       "      <th>Price</th>\n",
       "      <th>Company</th>\n",
       "    </tr>\n",
       "  </thead>\n",
       "  <tbody>\n",
       "    <tr>\n",
       "      <th>0</th>\n",
       "      <td>[Wagon, R, LXI, CNG]</td>\n",
       "      <td>Mumbai</td>\n",
       "      <td>2010</td>\n",
       "      <td>72000</td>\n",
       "      <td>CNG</td>\n",
       "      <td>Manual</td>\n",
       "      <td>First</td>\n",
       "      <td>26.60</td>\n",
       "      <td>998.0</td>\n",
       "      <td>58.16</td>\n",
       "      <td>5.0</td>\n",
       "      <td>1.75</td>\n",
       "      <td>Maruti</td>\n",
       "    </tr>\n",
       "    <tr>\n",
       "      <th>1</th>\n",
       "      <td>[Creta, 1.6, CRDi, SX, Option]</td>\n",
       "      <td>Pune</td>\n",
       "      <td>2015</td>\n",
       "      <td>41000</td>\n",
       "      <td>Diesel</td>\n",
       "      <td>Manual</td>\n",
       "      <td>First</td>\n",
       "      <td>19.67</td>\n",
       "      <td>1582.0</td>\n",
       "      <td>126.20</td>\n",
       "      <td>5.0</td>\n",
       "      <td>12.50</td>\n",
       "      <td>Hyundai</td>\n",
       "    </tr>\n",
       "    <tr>\n",
       "      <th>2</th>\n",
       "      <td>[Jazz, V]</td>\n",
       "      <td>Chennai</td>\n",
       "      <td>2011</td>\n",
       "      <td>46000</td>\n",
       "      <td>Petrol</td>\n",
       "      <td>Manual</td>\n",
       "      <td>First</td>\n",
       "      <td>18.20</td>\n",
       "      <td>1199.0</td>\n",
       "      <td>88.70</td>\n",
       "      <td>5.0</td>\n",
       "      <td>4.50</td>\n",
       "      <td>Honda</td>\n",
       "    </tr>\n",
       "    <tr>\n",
       "      <th>3</th>\n",
       "      <td>[Ertiga, VDI]</td>\n",
       "      <td>Chennai</td>\n",
       "      <td>2012</td>\n",
       "      <td>87000</td>\n",
       "      <td>Diesel</td>\n",
       "      <td>Manual</td>\n",
       "      <td>First</td>\n",
       "      <td>20.77</td>\n",
       "      <td>1248.0</td>\n",
       "      <td>88.76</td>\n",
       "      <td>7.0</td>\n",
       "      <td>6.00</td>\n",
       "      <td>Maruti</td>\n",
       "    </tr>\n",
       "    <tr>\n",
       "      <th>4</th>\n",
       "      <td>[A4, New, 2.0, TDI, Multitronic]</td>\n",
       "      <td>Coimbatore</td>\n",
       "      <td>2013</td>\n",
       "      <td>40670</td>\n",
       "      <td>Diesel</td>\n",
       "      <td>Automatic</td>\n",
       "      <td>Second</td>\n",
       "      <td>15.20</td>\n",
       "      <td>1968.0</td>\n",
       "      <td>140.80</td>\n",
       "      <td>5.0</td>\n",
       "      <td>17.74</td>\n",
       "      <td>Audi</td>\n",
       "    </tr>\n",
       "  </tbody>\n",
       "</table>\n",
       "</div>"
      ],
      "text/plain": [
       "                               Name    Location  Year  Kilometers_Driven  \\\n",
       "0              [Wagon, R, LXI, CNG]      Mumbai  2010              72000   \n",
       "1    [Creta, 1.6, CRDi, SX, Option]        Pune  2015              41000   \n",
       "2                         [Jazz, V]     Chennai  2011              46000   \n",
       "3                     [Ertiga, VDI]     Chennai  2012              87000   \n",
       "4  [A4, New, 2.0, TDI, Multitronic]  Coimbatore  2013              40670   \n",
       "\n",
       "  Fuel_Type Transmission Owner_Type  Mileage  Engine   Power  Seats  Price  \\\n",
       "0       CNG       Manual      First    26.60   998.0   58.16    5.0   1.75   \n",
       "1    Diesel       Manual      First    19.67  1582.0  126.20    5.0  12.50   \n",
       "2    Petrol       Manual      First    18.20  1199.0   88.70    5.0   4.50   \n",
       "3    Diesel       Manual      First    20.77  1248.0   88.76    7.0   6.00   \n",
       "4    Diesel    Automatic     Second    15.20  1968.0  140.80    5.0  17.74   \n",
       "\n",
       "   Company  \n",
       "0   Maruti  \n",
       "1  Hyundai  \n",
       "2    Honda  \n",
       "3   Maruti  \n",
       "4     Audi  "
      ]
     },
     "execution_count": 55,
     "metadata": {},
     "output_type": "execute_result"
    }
   ],
   "source": [
    "data.head()"
   ]
  },
  {
   "cell_type": "code",
   "execution_count": 56,
   "metadata": {},
   "outputs": [
    {
     "data": {
      "text/plain": [
       "'car is on fire'"
      ]
     },
     "execution_count": 56,
     "metadata": {},
     "output_type": "execute_result"
    }
   ],
   "source": [
    "#because we are not interested in performing an NLP model right now, I will return the name column to a full string \n",
    "#instead of a list of strings for presentation purposes only.\n",
    "def listToStrings(lisst):\n",
    "    '''This function adds a space between every word in a list of strings, \n",
    "    forming a new single string representing the entire list'''\n",
    "    str1=' '\n",
    "    return str1.join(lisst)\n",
    "listToStrings(['car','is','on','fire']) #testing the function"
   ]
  },
  {
   "cell_type": "code",
   "execution_count": 57,
   "metadata": {},
   "outputs": [],
   "source": [
    "data['Name']=[listToStrings(x) for x in data['Name']] #applying the function to the name column yields:"
   ]
  },
  {
   "cell_type": "code",
   "execution_count": 58,
   "metadata": {},
   "outputs": [
    {
     "data": {
      "text/html": [
       "<div>\n",
       "<style scoped>\n",
       "    .dataframe tbody tr th:only-of-type {\n",
       "        vertical-align: middle;\n",
       "    }\n",
       "\n",
       "    .dataframe tbody tr th {\n",
       "        vertical-align: top;\n",
       "    }\n",
       "\n",
       "    .dataframe thead th {\n",
       "        text-align: right;\n",
       "    }\n",
       "</style>\n",
       "<table border=\"1\" class=\"dataframe\">\n",
       "  <thead>\n",
       "    <tr style=\"text-align: right;\">\n",
       "      <th></th>\n",
       "      <th>Name</th>\n",
       "      <th>Location</th>\n",
       "      <th>Year</th>\n",
       "      <th>Kilometers_Driven</th>\n",
       "      <th>Fuel_Type</th>\n",
       "      <th>Transmission</th>\n",
       "      <th>Owner_Type</th>\n",
       "      <th>Mileage</th>\n",
       "      <th>Engine</th>\n",
       "      <th>Power</th>\n",
       "      <th>Seats</th>\n",
       "      <th>Price</th>\n",
       "      <th>Company</th>\n",
       "    </tr>\n",
       "  </thead>\n",
       "  <tbody>\n",
       "    <tr>\n",
       "      <th>0</th>\n",
       "      <td>Wagon R LXI CNG</td>\n",
       "      <td>Mumbai</td>\n",
       "      <td>2010</td>\n",
       "      <td>72000</td>\n",
       "      <td>CNG</td>\n",
       "      <td>Manual</td>\n",
       "      <td>First</td>\n",
       "      <td>26.60</td>\n",
       "      <td>998.0</td>\n",
       "      <td>58.16</td>\n",
       "      <td>5.0</td>\n",
       "      <td>1.75</td>\n",
       "      <td>Maruti</td>\n",
       "    </tr>\n",
       "    <tr>\n",
       "      <th>1</th>\n",
       "      <td>Creta 1.6 CRDi SX Option</td>\n",
       "      <td>Pune</td>\n",
       "      <td>2015</td>\n",
       "      <td>41000</td>\n",
       "      <td>Diesel</td>\n",
       "      <td>Manual</td>\n",
       "      <td>First</td>\n",
       "      <td>19.67</td>\n",
       "      <td>1582.0</td>\n",
       "      <td>126.20</td>\n",
       "      <td>5.0</td>\n",
       "      <td>12.50</td>\n",
       "      <td>Hyundai</td>\n",
       "    </tr>\n",
       "    <tr>\n",
       "      <th>2</th>\n",
       "      <td>Jazz V</td>\n",
       "      <td>Chennai</td>\n",
       "      <td>2011</td>\n",
       "      <td>46000</td>\n",
       "      <td>Petrol</td>\n",
       "      <td>Manual</td>\n",
       "      <td>First</td>\n",
       "      <td>18.20</td>\n",
       "      <td>1199.0</td>\n",
       "      <td>88.70</td>\n",
       "      <td>5.0</td>\n",
       "      <td>4.50</td>\n",
       "      <td>Honda</td>\n",
       "    </tr>\n",
       "    <tr>\n",
       "      <th>3</th>\n",
       "      <td>Ertiga VDI</td>\n",
       "      <td>Chennai</td>\n",
       "      <td>2012</td>\n",
       "      <td>87000</td>\n",
       "      <td>Diesel</td>\n",
       "      <td>Manual</td>\n",
       "      <td>First</td>\n",
       "      <td>20.77</td>\n",
       "      <td>1248.0</td>\n",
       "      <td>88.76</td>\n",
       "      <td>7.0</td>\n",
       "      <td>6.00</td>\n",
       "      <td>Maruti</td>\n",
       "    </tr>\n",
       "    <tr>\n",
       "      <th>4</th>\n",
       "      <td>A4 New 2.0 TDI Multitronic</td>\n",
       "      <td>Coimbatore</td>\n",
       "      <td>2013</td>\n",
       "      <td>40670</td>\n",
       "      <td>Diesel</td>\n",
       "      <td>Automatic</td>\n",
       "      <td>Second</td>\n",
       "      <td>15.20</td>\n",
       "      <td>1968.0</td>\n",
       "      <td>140.80</td>\n",
       "      <td>5.0</td>\n",
       "      <td>17.74</td>\n",
       "      <td>Audi</td>\n",
       "    </tr>\n",
       "  </tbody>\n",
       "</table>\n",
       "</div>"
      ],
      "text/plain": [
       "                         Name    Location  Year  Kilometers_Driven Fuel_Type  \\\n",
       "0             Wagon R LXI CNG      Mumbai  2010              72000       CNG   \n",
       "1    Creta 1.6 CRDi SX Option        Pune  2015              41000    Diesel   \n",
       "2                      Jazz V     Chennai  2011              46000    Petrol   \n",
       "3                  Ertiga VDI     Chennai  2012              87000    Diesel   \n",
       "4  A4 New 2.0 TDI Multitronic  Coimbatore  2013              40670    Diesel   \n",
       "\n",
       "  Transmission Owner_Type  Mileage  Engine   Power  Seats  Price  Company  \n",
       "0       Manual      First    26.60   998.0   58.16    5.0   1.75   Maruti  \n",
       "1       Manual      First    19.67  1582.0  126.20    5.0  12.50  Hyundai  \n",
       "2       Manual      First    18.20  1199.0   88.70    5.0   4.50    Honda  \n",
       "3       Manual      First    20.77  1248.0   88.76    7.0   6.00   Maruti  \n",
       "4    Automatic     Second    15.20  1968.0  140.80    5.0  17.74     Audi  "
      ]
     },
     "execution_count": 58,
     "metadata": {},
     "output_type": "execute_result"
    }
   ],
   "source": [
    "data.head()"
   ]
  },
  {
   "cell_type": "markdown",
   "metadata": {},
   "source": [
    "Now the company name column is seperate from names and the company has been dropped from the names column."
   ]
  },
  {
   "cell_type": "markdown",
   "metadata": {},
   "source": [
    "### Creating new feature cost in rupees / km "
   ]
  },
  {
   "attachments": {
    "image-2.png": {
     "image/png": "[encoded data removed]"
    }
   },
   "cell_type": "markdown",
   "metadata": {},
   "source": [
    "![image-2.png](attachment:image-2.png)\n",
    "https://www.cartrade.com/blog/2009/auto-guides/petrol-diesel-cng-or-lpg-we-help-you-choose-2.html\n",
    "I found this resource which provides the average cost of using each fuel type in rupees through some research and I will use this table to engineer a new feature to replace mileage. The feature will be cost in Rupees/km of distance travelled with the car and only accounts for fuel costs."
   ]
  },
  {
   "cell_type": "code",
   "execution_count": 59,
   "metadata": {},
   "outputs": [
    {
     "data": {
      "text/html": [
       "<div>\n",
       "<style scoped>\n",
       "    .dataframe tbody tr th:only-of-type {\n",
       "        vertical-align: middle;\n",
       "    }\n",
       "\n",
       "    .dataframe tbody tr th {\n",
       "        vertical-align: top;\n",
       "    }\n",
       "\n",
       "    .dataframe thead th {\n",
       "        text-align: right;\n",
       "    }\n",
       "</style>\n",
       "<table border=\"1\" class=\"dataframe\">\n",
       "  <thead>\n",
       "    <tr style=\"text-align: right;\">\n",
       "      <th></th>\n",
       "      <th>Name</th>\n",
       "      <th>Location</th>\n",
       "      <th>Year</th>\n",
       "      <th>Kilometers_Driven</th>\n",
       "      <th>Fuel_Type</th>\n",
       "      <th>Transmission</th>\n",
       "      <th>Owner_Type</th>\n",
       "      <th>Mileage</th>\n",
       "      <th>Engine</th>\n",
       "      <th>Power</th>\n",
       "      <th>Seats</th>\n",
       "      <th>Price</th>\n",
       "      <th>Company</th>\n",
       "      <th>Cost/unit fuel</th>\n",
       "    </tr>\n",
       "  </thead>\n",
       "  <tbody>\n",
       "    <tr>\n",
       "      <th>0</th>\n",
       "      <td>Wagon R LXI CNG</td>\n",
       "      <td>Mumbai</td>\n",
       "      <td>2010</td>\n",
       "      <td>72000</td>\n",
       "      <td>CNG</td>\n",
       "      <td>Manual</td>\n",
       "      <td>First</td>\n",
       "      <td>26.60</td>\n",
       "      <td>998.0</td>\n",
       "      <td>58.16</td>\n",
       "      <td>5.0</td>\n",
       "      <td>1.75</td>\n",
       "      <td>Maruti</td>\n",
       "      <td>18.0</td>\n",
       "    </tr>\n",
       "    <tr>\n",
       "      <th>1</th>\n",
       "      <td>Creta 1.6 CRDi SX Option</td>\n",
       "      <td>Pune</td>\n",
       "      <td>2015</td>\n",
       "      <td>41000</td>\n",
       "      <td>Diesel</td>\n",
       "      <td>Manual</td>\n",
       "      <td>First</td>\n",
       "      <td>19.67</td>\n",
       "      <td>1582.0</td>\n",
       "      <td>126.20</td>\n",
       "      <td>5.0</td>\n",
       "      <td>12.50</td>\n",
       "      <td>Hyundai</td>\n",
       "      <td>38.0</td>\n",
       "    </tr>\n",
       "    <tr>\n",
       "      <th>2</th>\n",
       "      <td>Jazz V</td>\n",
       "      <td>Chennai</td>\n",
       "      <td>2011</td>\n",
       "      <td>46000</td>\n",
       "      <td>Petrol</td>\n",
       "      <td>Manual</td>\n",
       "      <td>First</td>\n",
       "      <td>18.20</td>\n",
       "      <td>1199.0</td>\n",
       "      <td>88.70</td>\n",
       "      <td>5.0</td>\n",
       "      <td>4.50</td>\n",
       "      <td>Honda</td>\n",
       "      <td>50.0</td>\n",
       "    </tr>\n",
       "    <tr>\n",
       "      <th>3</th>\n",
       "      <td>Ertiga VDI</td>\n",
       "      <td>Chennai</td>\n",
       "      <td>2012</td>\n",
       "      <td>87000</td>\n",
       "      <td>Diesel</td>\n",
       "      <td>Manual</td>\n",
       "      <td>First</td>\n",
       "      <td>20.77</td>\n",
       "      <td>1248.0</td>\n",
       "      <td>88.76</td>\n",
       "      <td>7.0</td>\n",
       "      <td>6.00</td>\n",
       "      <td>Maruti</td>\n",
       "      <td>38.0</td>\n",
       "    </tr>\n",
       "    <tr>\n",
       "      <th>4</th>\n",
       "      <td>A4 New 2.0 TDI Multitronic</td>\n",
       "      <td>Coimbatore</td>\n",
       "      <td>2013</td>\n",
       "      <td>40670</td>\n",
       "      <td>Diesel</td>\n",
       "      <td>Automatic</td>\n",
       "      <td>Second</td>\n",
       "      <td>15.20</td>\n",
       "      <td>1968.0</td>\n",
       "      <td>140.80</td>\n",
       "      <td>5.0</td>\n",
       "      <td>17.74</td>\n",
       "      <td>Audi</td>\n",
       "      <td>38.0</td>\n",
       "    </tr>\n",
       "  </tbody>\n",
       "</table>\n",
       "</div>"
      ],
      "text/plain": [
       "                         Name    Location  Year  Kilometers_Driven Fuel_Type  \\\n",
       "0             Wagon R LXI CNG      Mumbai  2010              72000       CNG   \n",
       "1    Creta 1.6 CRDi SX Option        Pune  2015              41000    Diesel   \n",
       "2                      Jazz V     Chennai  2011              46000    Petrol   \n",
       "3                  Ertiga VDI     Chennai  2012              87000    Diesel   \n",
       "4  A4 New 2.0 TDI Multitronic  Coimbatore  2013              40670    Diesel   \n",
       "\n",
       "  Transmission Owner_Type  Mileage  Engine   Power  Seats  Price  Company  \\\n",
       "0       Manual      First    26.60   998.0   58.16    5.0   1.75   Maruti   \n",
       "1       Manual      First    19.67  1582.0  126.20    5.0  12.50  Hyundai   \n",
       "2       Manual      First    18.20  1199.0   88.70    5.0   4.50    Honda   \n",
       "3       Manual      First    20.77  1248.0   88.76    7.0   6.00   Maruti   \n",
       "4    Automatic     Second    15.20  1968.0  140.80    5.0  17.74     Audi   \n",
       "\n",
       "   Cost/unit fuel  \n",
       "0            18.0  \n",
       "1            38.0  \n",
       "2            50.0  \n",
       "3            38.0  \n",
       "4            38.0  "
      ]
     },
     "execution_count": 59,
     "metadata": {},
     "output_type": "execute_result"
    }
   ],
   "source": [
    "#create a list of conditions which can be used with the np.select() command\n",
    "conditions = [\n",
    "    (data['Fuel_Type']=='CNG'),\n",
    "    (data['Fuel_Type']=='LPG'),\n",
    "    (data['Fuel_Type']=='Diesel'),\n",
    "    (data['Fuel_Type']=='Petrol'),\n",
    "    (data['Fuel_Type']=='Electric'),\n",
    "]\n",
    "#create a list of values corresponding to conditions which can be used with the np.select() command\n",
    "values = [18,25,38,50,np.nan]\n",
    "\n",
    "#create a new column and use np.select to assign values for each condition\n",
    "data['Cost/unit fuel']=np.select(conditions,values)\n",
    "data.head()"
   ]
  },
  {
   "cell_type": "markdown",
   "metadata": {},
   "source": [
    "Now that we have a cost/unit fuel column we can use to calculate the new column cost(in rupees)/km driven."
   ]
  },
  {
   "cell_type": "code",
   "execution_count": 60,
   "metadata": {},
   "outputs": [
    {
     "data": {
      "text/html": [
       "<div>\n",
       "<style scoped>\n",
       "    .dataframe tbody tr th:only-of-type {\n",
       "        vertical-align: middle;\n",
       "    }\n",
       "\n",
       "    .dataframe tbody tr th {\n",
       "        vertical-align: top;\n",
       "    }\n",
       "\n",
       "    .dataframe thead th {\n",
       "        text-align: right;\n",
       "    }\n",
       "</style>\n",
       "<table border=\"1\" class=\"dataframe\">\n",
       "  <thead>\n",
       "    <tr style=\"text-align: right;\">\n",
       "      <th></th>\n",
       "      <th>Name</th>\n",
       "      <th>Location</th>\n",
       "      <th>Year</th>\n",
       "      <th>Kilometers_Driven</th>\n",
       "      <th>Fuel_Type</th>\n",
       "      <th>Transmission</th>\n",
       "      <th>Owner_Type</th>\n",
       "      <th>Mileage</th>\n",
       "      <th>Engine</th>\n",
       "      <th>Power</th>\n",
       "      <th>Seats</th>\n",
       "      <th>Price</th>\n",
       "      <th>Company</th>\n",
       "      <th>Cost/unit fuel</th>\n",
       "      <th>cost(in rupees)/km</th>\n",
       "    </tr>\n",
       "  </thead>\n",
       "  <tbody>\n",
       "    <tr>\n",
       "      <th>0</th>\n",
       "      <td>Wagon R LXI CNG</td>\n",
       "      <td>Mumbai</td>\n",
       "      <td>2010</td>\n",
       "      <td>72000</td>\n",
       "      <td>CNG</td>\n",
       "      <td>Manual</td>\n",
       "      <td>First</td>\n",
       "      <td>26.60</td>\n",
       "      <td>998.0</td>\n",
       "      <td>58.16</td>\n",
       "      <td>5.0</td>\n",
       "      <td>1.75</td>\n",
       "      <td>Maruti</td>\n",
       "      <td>18.0</td>\n",
       "      <td>478.80</td>\n",
       "    </tr>\n",
       "    <tr>\n",
       "      <th>1</th>\n",
       "      <td>Creta 1.6 CRDi SX Option</td>\n",
       "      <td>Pune</td>\n",
       "      <td>2015</td>\n",
       "      <td>41000</td>\n",
       "      <td>Diesel</td>\n",
       "      <td>Manual</td>\n",
       "      <td>First</td>\n",
       "      <td>19.67</td>\n",
       "      <td>1582.0</td>\n",
       "      <td>126.20</td>\n",
       "      <td>5.0</td>\n",
       "      <td>12.50</td>\n",
       "      <td>Hyundai</td>\n",
       "      <td>38.0</td>\n",
       "      <td>747.46</td>\n",
       "    </tr>\n",
       "    <tr>\n",
       "      <th>2</th>\n",
       "      <td>Jazz V</td>\n",
       "      <td>Chennai</td>\n",
       "      <td>2011</td>\n",
       "      <td>46000</td>\n",
       "      <td>Petrol</td>\n",
       "      <td>Manual</td>\n",
       "      <td>First</td>\n",
       "      <td>18.20</td>\n",
       "      <td>1199.0</td>\n",
       "      <td>88.70</td>\n",
       "      <td>5.0</td>\n",
       "      <td>4.50</td>\n",
       "      <td>Honda</td>\n",
       "      <td>50.0</td>\n",
       "      <td>910.00</td>\n",
       "    </tr>\n",
       "    <tr>\n",
       "      <th>3</th>\n",
       "      <td>Ertiga VDI</td>\n",
       "      <td>Chennai</td>\n",
       "      <td>2012</td>\n",
       "      <td>87000</td>\n",
       "      <td>Diesel</td>\n",
       "      <td>Manual</td>\n",
       "      <td>First</td>\n",
       "      <td>20.77</td>\n",
       "      <td>1248.0</td>\n",
       "      <td>88.76</td>\n",
       "      <td>7.0</td>\n",
       "      <td>6.00</td>\n",
       "      <td>Maruti</td>\n",
       "      <td>38.0</td>\n",
       "      <td>789.26</td>\n",
       "    </tr>\n",
       "    <tr>\n",
       "      <th>4</th>\n",
       "      <td>A4 New 2.0 TDI Multitronic</td>\n",
       "      <td>Coimbatore</td>\n",
       "      <td>2013</td>\n",
       "      <td>40670</td>\n",
       "      <td>Diesel</td>\n",
       "      <td>Automatic</td>\n",
       "      <td>Second</td>\n",
       "      <td>15.20</td>\n",
       "      <td>1968.0</td>\n",
       "      <td>140.80</td>\n",
       "      <td>5.0</td>\n",
       "      <td>17.74</td>\n",
       "      <td>Audi</td>\n",
       "      <td>38.0</td>\n",
       "      <td>577.60</td>\n",
       "    </tr>\n",
       "  </tbody>\n",
       "</table>\n",
       "</div>"
      ],
      "text/plain": [
       "                         Name    Location  Year  Kilometers_Driven Fuel_Type  \\\n",
       "0             Wagon R LXI CNG      Mumbai  2010              72000       CNG   \n",
       "1    Creta 1.6 CRDi SX Option        Pune  2015              41000    Diesel   \n",
       "2                      Jazz V     Chennai  2011              46000    Petrol   \n",
       "3                  Ertiga VDI     Chennai  2012              87000    Diesel   \n",
       "4  A4 New 2.0 TDI Multitronic  Coimbatore  2013              40670    Diesel   \n",
       "\n",
       "  Transmission Owner_Type  Mileage  Engine   Power  Seats  Price  Company  \\\n",
       "0       Manual      First    26.60   998.0   58.16    5.0   1.75   Maruti   \n",
       "1       Manual      First    19.67  1582.0  126.20    5.0  12.50  Hyundai   \n",
       "2       Manual      First    18.20  1199.0   88.70    5.0   4.50    Honda   \n",
       "3       Manual      First    20.77  1248.0   88.76    7.0   6.00   Maruti   \n",
       "4    Automatic     Second    15.20  1968.0  140.80    5.0  17.74     Audi   \n",
       "\n",
       "   Cost/unit fuel  cost(in rupees)/km  \n",
       "0            18.0              478.80  \n",
       "1            38.0              747.46  \n",
       "2            50.0              910.00  \n",
       "3            38.0              789.26  \n",
       "4            38.0              577.60  "
      ]
     },
     "execution_count": 60,
     "metadata": {},
     "output_type": "execute_result"
    }
   ],
   "source": [
    "for ind, row in data.iterrows():\n",
    "    #for each row multiply the mileage column with cost/unit fuel column and store in new column\n",
    "    #cost (in rupees)/km\n",
    "    data.loc[ind, 'cost(in rupees)/km'] = row['Mileage'] * row['Cost/unit fuel']\n",
    "data.head()"
   ]
  },
  {
   "cell_type": "markdown",
   "metadata": {},
   "source": [
    "Now that I have the new column, I will still keep the mileage column i used to create this column because i'd like to learn from comparing model performances (with new feature and without new feature) later on. However, i will drop the cost column i used as it holds no value beyonjd the fuel_type column"
   ]
  },
  {
   "cell_type": "code",
   "execution_count": 61,
   "metadata": {},
   "outputs": [],
   "source": [
    "data.drop(['Cost/unit fuel'], axis=1,inplace=True) #this column has served its purpose and is no longer needed"
   ]
  },
  {
   "cell_type": "code",
   "execution_count": 62,
   "metadata": {},
   "outputs": [
    {
     "data": {
      "text/html": [
       "<div>\n",
       "<style scoped>\n",
       "    .dataframe tbody tr th:only-of-type {\n",
       "        vertical-align: middle;\n",
       "    }\n",
       "\n",
       "    .dataframe tbody tr th {\n",
       "        vertical-align: top;\n",
       "    }\n",
       "\n",
       "    .dataframe thead th {\n",
       "        text-align: right;\n",
       "    }\n",
       "</style>\n",
       "<table border=\"1\" class=\"dataframe\">\n",
       "  <thead>\n",
       "    <tr style=\"text-align: right;\">\n",
       "      <th></th>\n",
       "      <th>Name</th>\n",
       "      <th>Location</th>\n",
       "      <th>Year</th>\n",
       "      <th>Kilometers_Driven</th>\n",
       "      <th>Fuel_Type</th>\n",
       "      <th>Transmission</th>\n",
       "      <th>Owner_Type</th>\n",
       "      <th>Mileage</th>\n",
       "      <th>Engine</th>\n",
       "      <th>Power</th>\n",
       "      <th>Seats</th>\n",
       "      <th>Price</th>\n",
       "      <th>Company</th>\n",
       "      <th>cost(in rupees)/km</th>\n",
       "    </tr>\n",
       "  </thead>\n",
       "  <tbody>\n",
       "    <tr>\n",
       "      <th>0</th>\n",
       "      <td>Wagon R LXI CNG</td>\n",
       "      <td>Mumbai</td>\n",
       "      <td>2010</td>\n",
       "      <td>72000</td>\n",
       "      <td>CNG</td>\n",
       "      <td>Manual</td>\n",
       "      <td>First</td>\n",
       "      <td>26.60</td>\n",
       "      <td>998.0</td>\n",
       "      <td>58.16</td>\n",
       "      <td>5.0</td>\n",
       "      <td>1.75</td>\n",
       "      <td>Maruti</td>\n",
       "      <td>478.80</td>\n",
       "    </tr>\n",
       "    <tr>\n",
       "      <th>1</th>\n",
       "      <td>Creta 1.6 CRDi SX Option</td>\n",
       "      <td>Pune</td>\n",
       "      <td>2015</td>\n",
       "      <td>41000</td>\n",
       "      <td>Diesel</td>\n",
       "      <td>Manual</td>\n",
       "      <td>First</td>\n",
       "      <td>19.67</td>\n",
       "      <td>1582.0</td>\n",
       "      <td>126.20</td>\n",
       "      <td>5.0</td>\n",
       "      <td>12.50</td>\n",
       "      <td>Hyundai</td>\n",
       "      <td>747.46</td>\n",
       "    </tr>\n",
       "    <tr>\n",
       "      <th>2</th>\n",
       "      <td>Jazz V</td>\n",
       "      <td>Chennai</td>\n",
       "      <td>2011</td>\n",
       "      <td>46000</td>\n",
       "      <td>Petrol</td>\n",
       "      <td>Manual</td>\n",
       "      <td>First</td>\n",
       "      <td>18.20</td>\n",
       "      <td>1199.0</td>\n",
       "      <td>88.70</td>\n",
       "      <td>5.0</td>\n",
       "      <td>4.50</td>\n",
       "      <td>Honda</td>\n",
       "      <td>910.00</td>\n",
       "    </tr>\n",
       "    <tr>\n",
       "      <th>3</th>\n",
       "      <td>Ertiga VDI</td>\n",
       "      <td>Chennai</td>\n",
       "      <td>2012</td>\n",
       "      <td>87000</td>\n",
       "      <td>Diesel</td>\n",
       "      <td>Manual</td>\n",
       "      <td>First</td>\n",
       "      <td>20.77</td>\n",
       "      <td>1248.0</td>\n",
       "      <td>88.76</td>\n",
       "      <td>7.0</td>\n",
       "      <td>6.00</td>\n",
       "      <td>Maruti</td>\n",
       "      <td>789.26</td>\n",
       "    </tr>\n",
       "    <tr>\n",
       "      <th>4</th>\n",
       "      <td>A4 New 2.0 TDI Multitronic</td>\n",
       "      <td>Coimbatore</td>\n",
       "      <td>2013</td>\n",
       "      <td>40670</td>\n",
       "      <td>Diesel</td>\n",
       "      <td>Automatic</td>\n",
       "      <td>Second</td>\n",
       "      <td>15.20</td>\n",
       "      <td>1968.0</td>\n",
       "      <td>140.80</td>\n",
       "      <td>5.0</td>\n",
       "      <td>17.74</td>\n",
       "      <td>Audi</td>\n",
       "      <td>577.60</td>\n",
       "    </tr>\n",
       "  </tbody>\n",
       "</table>\n",
       "</div>"
      ],
      "text/plain": [
       "                         Name    Location  Year  Kilometers_Driven Fuel_Type  \\\n",
       "0             Wagon R LXI CNG      Mumbai  2010              72000       CNG   \n",
       "1    Creta 1.6 CRDi SX Option        Pune  2015              41000    Diesel   \n",
       "2                      Jazz V     Chennai  2011              46000    Petrol   \n",
       "3                  Ertiga VDI     Chennai  2012              87000    Diesel   \n",
       "4  A4 New 2.0 TDI Multitronic  Coimbatore  2013              40670    Diesel   \n",
       "\n",
       "  Transmission Owner_Type  Mileage  Engine   Power  Seats  Price  Company  \\\n",
       "0       Manual      First    26.60   998.0   58.16    5.0   1.75   Maruti   \n",
       "1       Manual      First    19.67  1582.0  126.20    5.0  12.50  Hyundai   \n",
       "2       Manual      First    18.20  1199.0   88.70    5.0   4.50    Honda   \n",
       "3       Manual      First    20.77  1248.0   88.76    7.0   6.00   Maruti   \n",
       "4    Automatic     Second    15.20  1968.0  140.80    5.0  17.74     Audi   \n",
       "\n",
       "   cost(in rupees)/km  \n",
       "0              478.80  \n",
       "1              747.46  \n",
       "2              910.00  \n",
       "3              789.26  \n",
       "4              577.60  "
      ]
     },
     "execution_count": 62,
     "metadata": {},
     "output_type": "execute_result"
    }
   ],
   "source": [
    "data.head()"
   ]
  },
  {
   "cell_type": "code",
   "execution_count": 63,
   "metadata": {},
   "outputs": [
    {
     "name": "stdout",
     "output_type": "stream",
     "text": [
      "<class 'pandas.core.frame.DataFrame'>\n",
      "Int64Index: 7252 entries, 0 to 7252\n",
      "Data columns (total 14 columns):\n",
      " #   Column              Non-Null Count  Dtype   \n",
      "---  ------              --------------  -----   \n",
      " 0   Name                7252 non-null   object  \n",
      " 1   Location            7252 non-null   category\n",
      " 2   Year                7252 non-null   int64   \n",
      " 3   Kilometers_Driven   7252 non-null   int64   \n",
      " 4   Fuel_Type           7252 non-null   category\n",
      " 5   Transmission        7252 non-null   category\n",
      " 6   Owner_Type          7252 non-null   category\n",
      " 7   Mileage             7250 non-null   float64 \n",
      " 8   Engine              7206 non-null   float64 \n",
      " 9   Power               7077 non-null   float64 \n",
      " 10  Seats               7199 non-null   float64 \n",
      " 11  Price               6018 non-null   float64 \n",
      " 12  Company             7252 non-null   category\n",
      " 13  cost(in rupees)/km  7250 non-null   float64 \n",
      "dtypes: category(5), float64(6), int64(2), object(1)\n",
      "memory usage: 924.3+ KB\n"
     ]
    }
   ],
   "source": [
    "data.info()"
   ]
  },
  {
   "cell_type": "markdown",
   "metadata": {},
   "source": [
    "All dtypes are stored appropriately now, I have kept Name in the dtype object so I can distinguish it from usable features later."
   ]
  },
  {
   "cell_type": "markdown",
   "metadata": {},
   "source": [
    "## Missing Value Treatment"
   ]
  },
  {
   "cell_type": "markdown",
   "metadata": {},
   "source": [
    "First I will drop all rows with a null target, as I can not use this data."
   ]
  },
  {
   "cell_type": "code",
   "execution_count": 64,
   "metadata": {},
   "outputs": [],
   "source": [
    "data=data[data['Price'].notna()]"
   ]
  },
  {
   "cell_type": "code",
   "execution_count": 65,
   "metadata": {},
   "outputs": [
    {
     "data": {
      "text/plain": [
       "Name                    0\n",
       "Location                0\n",
       "Year                    0\n",
       "Kilometers_Driven       0\n",
       "Fuel_Type               0\n",
       "Transmission            0\n",
       "Owner_Type              0\n",
       "Mileage                 2\n",
       "Engine                 36\n",
       "Power                 143\n",
       "Seats                  42\n",
       "Price                   0\n",
       "Company                 0\n",
       "cost(in rupees)/km      2\n",
       "dtype: int64"
      ]
     },
     "execution_count": 65,
     "metadata": {},
     "output_type": "execute_result"
    }
   ],
   "source": [
    "data.isnull().sum()"
   ]
  },
  {
   "cell_type": "markdown",
   "metadata": {},
   "source": [
    "Before I can create a model I must handle the missing values:\n",
    "\n",
    "1. For mileage and cost(in rupees)/km I will use the median\n",
    "2. For Engine, Power, Seats I will use the Average\n",
    "\n",
    "## Compute missing values"
   ]
  },
  {
   "cell_type": "code",
   "execution_count": 66,
   "metadata": {},
   "outputs": [],
   "source": [
    "data['Mileage'].fillna(data['Mileage'].median(), inplace=True)\n",
    "data['cost(in rupees)/km'].fillna(data['cost(in rupees)/km'].median(), inplace=True)"
   ]
  },
  {
   "cell_type": "code",
   "execution_count": 67,
   "metadata": {},
   "outputs": [],
   "source": [
    "\n",
    "data['Power'].fillna(data['Power'].mean(), inplace = True)\n",
    "data['Engine'].fillna(data['Engine'].mean(), inplace = True)\n",
    "data['Seats'].fillna(data['Power'].mean(), inplace = True)\n"
   ]
  },
  {
   "cell_type": "code",
   "execution_count": 68,
   "metadata": {},
   "outputs": [
    {
     "data": {
      "text/plain": [
       "Name                  0\n",
       "Location              0\n",
       "Year                  0\n",
       "Kilometers_Driven     0\n",
       "Fuel_Type             0\n",
       "Transmission          0\n",
       "Owner_Type            0\n",
       "Mileage               0\n",
       "Engine                0\n",
       "Power                 0\n",
       "Seats                 0\n",
       "Price                 0\n",
       "Company               0\n",
       "cost(in rupees)/km    0\n",
       "dtype: int64"
      ]
     },
     "execution_count": 68,
     "metadata": {},
     "output_type": "execute_result"
    }
   ],
   "source": [
    "data.isnull().sum()"
   ]
  },
  {
   "cell_type": "markdown",
   "metadata": {},
   "source": [
    "All missing values are now filled, and we can move onto feature scaling."
   ]
  },
  {
   "cell_type": "markdown",
   "metadata": {},
   "source": [
    "## Feature Scaling"
   ]
  },
  {
   "cell_type": "code",
   "execution_count": 69,
   "metadata": {},
   "outputs": [
    {
     "data": {
      "text/html": [
       "<div>\n",
       "<style scoped>\n",
       "    .dataframe tbody tr th:only-of-type {\n",
       "        vertical-align: middle;\n",
       "    }\n",
       "\n",
       "    .dataframe tbody tr th {\n",
       "        vertical-align: top;\n",
       "    }\n",
       "\n",
       "    .dataframe thead th {\n",
       "        text-align: right;\n",
       "    }\n",
       "</style>\n",
       "<table border=\"1\" class=\"dataframe\">\n",
       "  <thead>\n",
       "    <tr style=\"text-align: right;\">\n",
       "      <th></th>\n",
       "      <th>Name</th>\n",
       "      <th>Location</th>\n",
       "      <th>Year</th>\n",
       "      <th>Kilometers_Driven</th>\n",
       "      <th>Fuel_Type</th>\n",
       "      <th>Transmission</th>\n",
       "      <th>Owner_Type</th>\n",
       "      <th>Mileage</th>\n",
       "      <th>Engine</th>\n",
       "      <th>Power</th>\n",
       "      <th>Seats</th>\n",
       "      <th>Price</th>\n",
       "      <th>Company</th>\n",
       "      <th>cost(in rupees)/km</th>\n",
       "    </tr>\n",
       "  </thead>\n",
       "  <tbody>\n",
       "    <tr>\n",
       "      <th>0</th>\n",
       "      <td>Wagon R LXI CNG</td>\n",
       "      <td>Mumbai</td>\n",
       "      <td>2010</td>\n",
       "      <td>72000</td>\n",
       "      <td>CNG</td>\n",
       "      <td>Manual</td>\n",
       "      <td>First</td>\n",
       "      <td>26.60</td>\n",
       "      <td>998.0</td>\n",
       "      <td>58.16</td>\n",
       "      <td>5.0</td>\n",
       "      <td>1.75</td>\n",
       "      <td>Maruti</td>\n",
       "      <td>478.80</td>\n",
       "    </tr>\n",
       "    <tr>\n",
       "      <th>1</th>\n",
       "      <td>Creta 1.6 CRDi SX Option</td>\n",
       "      <td>Pune</td>\n",
       "      <td>2015</td>\n",
       "      <td>41000</td>\n",
       "      <td>Diesel</td>\n",
       "      <td>Manual</td>\n",
       "      <td>First</td>\n",
       "      <td>19.67</td>\n",
       "      <td>1582.0</td>\n",
       "      <td>126.20</td>\n",
       "      <td>5.0</td>\n",
       "      <td>12.50</td>\n",
       "      <td>Hyundai</td>\n",
       "      <td>747.46</td>\n",
       "    </tr>\n",
       "    <tr>\n",
       "      <th>2</th>\n",
       "      <td>Jazz V</td>\n",
       "      <td>Chennai</td>\n",
       "      <td>2011</td>\n",
       "      <td>46000</td>\n",
       "      <td>Petrol</td>\n",
       "      <td>Manual</td>\n",
       "      <td>First</td>\n",
       "      <td>18.20</td>\n",
       "      <td>1199.0</td>\n",
       "      <td>88.70</td>\n",
       "      <td>5.0</td>\n",
       "      <td>4.50</td>\n",
       "      <td>Honda</td>\n",
       "      <td>910.00</td>\n",
       "    </tr>\n",
       "    <tr>\n",
       "      <th>3</th>\n",
       "      <td>Ertiga VDI</td>\n",
       "      <td>Chennai</td>\n",
       "      <td>2012</td>\n",
       "      <td>87000</td>\n",
       "      <td>Diesel</td>\n",
       "      <td>Manual</td>\n",
       "      <td>First</td>\n",
       "      <td>20.77</td>\n",
       "      <td>1248.0</td>\n",
       "      <td>88.76</td>\n",
       "      <td>7.0</td>\n",
       "      <td>6.00</td>\n",
       "      <td>Maruti</td>\n",
       "      <td>789.26</td>\n",
       "    </tr>\n",
       "    <tr>\n",
       "      <th>4</th>\n",
       "      <td>A4 New 2.0 TDI Multitronic</td>\n",
       "      <td>Coimbatore</td>\n",
       "      <td>2013</td>\n",
       "      <td>40670</td>\n",
       "      <td>Diesel</td>\n",
       "      <td>Automatic</td>\n",
       "      <td>Second</td>\n",
       "      <td>15.20</td>\n",
       "      <td>1968.0</td>\n",
       "      <td>140.80</td>\n",
       "      <td>5.0</td>\n",
       "      <td>17.74</td>\n",
       "      <td>Audi</td>\n",
       "      <td>577.60</td>\n",
       "    </tr>\n",
       "  </tbody>\n",
       "</table>\n",
       "</div>"
      ],
      "text/plain": [
       "                         Name    Location  Year  Kilometers_Driven Fuel_Type  \\\n",
       "0             Wagon R LXI CNG      Mumbai  2010              72000       CNG   \n",
       "1    Creta 1.6 CRDi SX Option        Pune  2015              41000    Diesel   \n",
       "2                      Jazz V     Chennai  2011              46000    Petrol   \n",
       "3                  Ertiga VDI     Chennai  2012              87000    Diesel   \n",
       "4  A4 New 2.0 TDI Multitronic  Coimbatore  2013              40670    Diesel   \n",
       "\n",
       "  Transmission Owner_Type  Mileage  Engine   Power  Seats  Price  Company  \\\n",
       "0       Manual      First    26.60   998.0   58.16    5.0   1.75   Maruti   \n",
       "1       Manual      First    19.67  1582.0  126.20    5.0  12.50  Hyundai   \n",
       "2       Manual      First    18.20  1199.0   88.70    5.0   4.50    Honda   \n",
       "3       Manual      First    20.77  1248.0   88.76    7.0   6.00   Maruti   \n",
       "4    Automatic     Second    15.20  1968.0  140.80    5.0  17.74     Audi   \n",
       "\n",
       "   cost(in rupees)/km  \n",
       "0              478.80  \n",
       "1              747.46  \n",
       "2              910.00  \n",
       "3              789.26  \n",
       "4              577.60  "
      ]
     },
     "execution_count": 69,
     "metadata": {},
     "output_type": "execute_result"
    }
   ],
   "source": [
    "data.head()"
   ]
  },
  {
   "cell_type": "markdown",
   "metadata": {},
   "source": [
    "Features to scale: Kilometers_Driven, Mileage, Engine, Power, Seats, cost(in rupees)/km"
   ]
  },
  {
   "cell_type": "code",
   "execution_count": 70,
   "metadata": {},
   "outputs": [
    {
     "data": {
      "text/html": [
       "<div>\n",
       "<style scoped>\n",
       "    .dataframe tbody tr th:only-of-type {\n",
       "        vertical-align: middle;\n",
       "    }\n",
       "\n",
       "    .dataframe tbody tr th {\n",
       "        vertical-align: top;\n",
       "    }\n",
       "\n",
       "    .dataframe thead th {\n",
       "        text-align: right;\n",
       "    }\n",
       "</style>\n",
       "<table border=\"1\" class=\"dataframe\">\n",
       "  <thead>\n",
       "    <tr style=\"text-align: right;\">\n",
       "      <th></th>\n",
       "      <th>Name</th>\n",
       "      <th>Location</th>\n",
       "      <th>Year</th>\n",
       "      <th>Fuel_Type</th>\n",
       "      <th>Transmission</th>\n",
       "      <th>Owner_Type</th>\n",
       "      <th>Price</th>\n",
       "      <th>Company</th>\n",
       "      <th>Kilometers_Driven_scaled</th>\n",
       "      <th>Mileage_scaled</th>\n",
       "      <th>Engine_scaled</th>\n",
       "      <th>Power_scaled</th>\n",
       "      <th>Seats_scaled</th>\n",
       "      <th>cost(in rupees)/km_scaled</th>\n",
       "    </tr>\n",
       "  </thead>\n",
       "  <tbody>\n",
       "    <tr>\n",
       "      <th>0</th>\n",
       "      <td>Wagon R LXI CNG</td>\n",
       "      <td>Mumbai</td>\n",
       "      <td>2010</td>\n",
       "      <td>CNG</td>\n",
       "      <td>Manual</td>\n",
       "      <td>First</td>\n",
       "      <td>1.75</td>\n",
       "      <td>Maruti</td>\n",
       "      <td>0.378395</td>\n",
       "      <td>1.847600</td>\n",
       "      <td>-1.039637</td>\n",
       "      <td>-1.035154</td>\n",
       "      <td>-0.114493</td>\n",
       "      <td>-1.443537</td>\n",
       "    </tr>\n",
       "    <tr>\n",
       "      <th>1</th>\n",
       "      <td>Creta 1.6 CRDi SX Option</td>\n",
       "      <td>Pune</td>\n",
       "      <td>2015</td>\n",
       "      <td>Diesel</td>\n",
       "      <td>Manual</td>\n",
       "      <td>First</td>\n",
       "      <td>12.50</td>\n",
       "      <td>Hyundai</td>\n",
       "      <td>-0.440073</td>\n",
       "      <td>0.334976</td>\n",
       "      <td>-0.065155</td>\n",
       "      <td>0.243835</td>\n",
       "      <td>-0.114493</td>\n",
       "      <td>-0.153345</td>\n",
       "    </tr>\n",
       "    <tr>\n",
       "      <th>2</th>\n",
       "      <td>Jazz V</td>\n",
       "      <td>Chennai</td>\n",
       "      <td>2011</td>\n",
       "      <td>Petrol</td>\n",
       "      <td>Manual</td>\n",
       "      <td>First</td>\n",
       "      <td>4.50</td>\n",
       "      <td>Honda</td>\n",
       "      <td>-0.308062</td>\n",
       "      <td>0.014116</td>\n",
       "      <td>-0.704242</td>\n",
       "      <td>-0.461075</td>\n",
       "      <td>-0.114493</td>\n",
       "      <td>0.627225</td>\n",
       "    </tr>\n",
       "    <tr>\n",
       "      <th>3</th>\n",
       "      <td>Ertiga VDI</td>\n",
       "      <td>Chennai</td>\n",
       "      <td>2012</td>\n",
       "      <td>Diesel</td>\n",
       "      <td>Manual</td>\n",
       "      <td>First</td>\n",
       "      <td>6.00</td>\n",
       "      <td>Maruti</td>\n",
       "      <td>0.774428</td>\n",
       "      <td>0.575075</td>\n",
       "      <td>-0.622479</td>\n",
       "      <td>-0.459947</td>\n",
       "      <td>0.107177</td>\n",
       "      <td>0.047393</td>\n",
       "    </tr>\n",
       "    <tr>\n",
       "      <th>4</th>\n",
       "      <td>A4 New 2.0 TDI Multitronic</td>\n",
       "      <td>Coimbatore</td>\n",
       "      <td>2013</td>\n",
       "      <td>Diesel</td>\n",
       "      <td>Automatic</td>\n",
       "      <td>Second</td>\n",
       "      <td>17.74</td>\n",
       "      <td>Audi</td>\n",
       "      <td>-0.448786</td>\n",
       "      <td>-0.640699</td>\n",
       "      <td>0.578937</td>\n",
       "      <td>0.518279</td>\n",
       "      <td>-0.114493</td>\n",
       "      <td>-0.969067</td>\n",
       "    </tr>\n",
       "  </tbody>\n",
       "</table>\n",
       "</div>"
      ],
      "text/plain": [
       "                         Name    Location  Year Fuel_Type Transmission  \\\n",
       "0             Wagon R LXI CNG      Mumbai  2010       CNG       Manual   \n",
       "1    Creta 1.6 CRDi SX Option        Pune  2015    Diesel       Manual   \n",
       "2                      Jazz V     Chennai  2011    Petrol       Manual   \n",
       "3                  Ertiga VDI     Chennai  2012    Diesel       Manual   \n",
       "4  A4 New 2.0 TDI Multitronic  Coimbatore  2013    Diesel    Automatic   \n",
       "\n",
       "  Owner_Type  Price  Company  Kilometers_Driven_scaled  Mileage_scaled  \\\n",
       "0      First   1.75   Maruti                  0.378395        1.847600   \n",
       "1      First  12.50  Hyundai                 -0.440073        0.334976   \n",
       "2      First   4.50    Honda                 -0.308062        0.014116   \n",
       "3      First   6.00   Maruti                  0.774428        0.575075   \n",
       "4     Second  17.74     Audi                 -0.448786       -0.640699   \n",
       "\n",
       "   Engine_scaled  Power_scaled  Seats_scaled  cost(in rupees)/km_scaled  \n",
       "0      -1.039637     -1.035154     -0.114493                  -1.443537  \n",
       "1      -0.065155      0.243835     -0.114493                  -0.153345  \n",
       "2      -0.704242     -0.461075     -0.114493                   0.627225  \n",
       "3      -0.622479     -0.459947      0.107177                   0.047393  \n",
       "4       0.578937      0.518279     -0.114493                  -0.969067  "
      ]
     },
     "execution_count": 70,
     "metadata": {},
     "output_type": "execute_result"
    }
   ],
   "source": [
    "scaler= StandardScaler()\n",
    "data['Kilometers_Driven_scaled']=scaler.fit_transform(data[['Kilometers_Driven']])\n",
    "data['Mileage_scaled']=scaler.fit_transform(data[['Mileage']])\n",
    "data['Engine_scaled']=scaler.fit_transform(data[['Engine']])\n",
    "data['Power_scaled']=scaler.fit_transform(data[['Power']])\n",
    "data['Seats_scaled']=scaler.fit_transform(data[['Seats']])\n",
    "data['cost(in rupees)/km_scaled']=scaler.fit_transform(data[['cost(in rupees)/km']])\n",
    "data.drop(['Kilometers_Driven','Mileage','Engine','Power','Seats','cost(in rupees)/km'],axis=1,inplace=True)\n",
    "data.head()"
   ]
  },
  {
   "cell_type": "markdown",
   "metadata": {},
   "source": []
  },
  {
   "cell_type": "markdown",
   "metadata": {},
   "source": [
    "## Comments on Outliers"
   ]
  },
  {
   "cell_type": "markdown",
   "metadata": {},
   "source": [
    "Remaining outliers appear to be real cars that are just very powerful. Removing supercars from the dataset may be of use if the dealership does not intend to deal in supercars, however I will keep them for the sake of generality."
   ]
  },
  {
   "cell_type": "markdown",
   "metadata": {},
   "source": [
    "Now we can see all missing values are filled, features are scaled, and we are ready to build a model.\n",
    "\n",
    "# Model Building"
   ]
  },
  {
   "cell_type": "markdown",
   "metadata": {},
   "source": [
    "## Define Independant and dependant variables"
   ]
  },
  {
   "cell_type": "code",
   "execution_count": 71,
   "metadata": {},
   "outputs": [],
   "source": [
    "ind_vars=data.drop(['Price','Name','Location'], axis=1) \n",
    "#all columns except for Price are possible features\n",
    "#Location/Name dropped because I noticed these caused overfitting when making trial models.\n",
    "dep_var=data[['Price']]"
   ]
  },
  {
   "cell_type": "code",
   "execution_count": 72,
   "metadata": {},
   "outputs": [
    {
     "data": {
      "text/html": [
       "<div>\n",
       "<style scoped>\n",
       "    .dataframe tbody tr th:only-of-type {\n",
       "        vertical-align: middle;\n",
       "    }\n",
       "\n",
       "    .dataframe tbody tr th {\n",
       "        vertical-align: top;\n",
       "    }\n",
       "\n",
       "    .dataframe thead th {\n",
       "        text-align: right;\n",
       "    }\n",
       "</style>\n",
       "<table border=\"1\" class=\"dataframe\">\n",
       "  <thead>\n",
       "    <tr style=\"text-align: right;\">\n",
       "      <th></th>\n",
       "      <th>Year</th>\n",
       "      <th>Fuel_Type</th>\n",
       "      <th>Transmission</th>\n",
       "      <th>Owner_Type</th>\n",
       "      <th>Company</th>\n",
       "      <th>Kilometers_Driven_scaled</th>\n",
       "      <th>Mileage_scaled</th>\n",
       "      <th>Engine_scaled</th>\n",
       "      <th>Power_scaled</th>\n",
       "      <th>Seats_scaled</th>\n",
       "      <th>cost(in rupees)/km_scaled</th>\n",
       "    </tr>\n",
       "  </thead>\n",
       "  <tbody>\n",
       "    <tr>\n",
       "      <th>0</th>\n",
       "      <td>2010</td>\n",
       "      <td>CNG</td>\n",
       "      <td>Manual</td>\n",
       "      <td>First</td>\n",
       "      <td>Maruti</td>\n",
       "      <td>0.378395</td>\n",
       "      <td>1.847600</td>\n",
       "      <td>-1.039637</td>\n",
       "      <td>-1.035154</td>\n",
       "      <td>-0.114493</td>\n",
       "      <td>-1.443537</td>\n",
       "    </tr>\n",
       "    <tr>\n",
       "      <th>1</th>\n",
       "      <td>2015</td>\n",
       "      <td>Diesel</td>\n",
       "      <td>Manual</td>\n",
       "      <td>First</td>\n",
       "      <td>Hyundai</td>\n",
       "      <td>-0.440073</td>\n",
       "      <td>0.334976</td>\n",
       "      <td>-0.065155</td>\n",
       "      <td>0.243835</td>\n",
       "      <td>-0.114493</td>\n",
       "      <td>-0.153345</td>\n",
       "    </tr>\n",
       "    <tr>\n",
       "      <th>2</th>\n",
       "      <td>2011</td>\n",
       "      <td>Petrol</td>\n",
       "      <td>Manual</td>\n",
       "      <td>First</td>\n",
       "      <td>Honda</td>\n",
       "      <td>-0.308062</td>\n",
       "      <td>0.014116</td>\n",
       "      <td>-0.704242</td>\n",
       "      <td>-0.461075</td>\n",
       "      <td>-0.114493</td>\n",
       "      <td>0.627225</td>\n",
       "    </tr>\n",
       "    <tr>\n",
       "      <th>3</th>\n",
       "      <td>2012</td>\n",
       "      <td>Diesel</td>\n",
       "      <td>Manual</td>\n",
       "      <td>First</td>\n",
       "      <td>Maruti</td>\n",
       "      <td>0.774428</td>\n",
       "      <td>0.575075</td>\n",
       "      <td>-0.622479</td>\n",
       "      <td>-0.459947</td>\n",
       "      <td>0.107177</td>\n",
       "      <td>0.047393</td>\n",
       "    </tr>\n",
       "    <tr>\n",
       "      <th>4</th>\n",
       "      <td>2013</td>\n",
       "      <td>Diesel</td>\n",
       "      <td>Automatic</td>\n",
       "      <td>Second</td>\n",
       "      <td>Audi</td>\n",
       "      <td>-0.448786</td>\n",
       "      <td>-0.640699</td>\n",
       "      <td>0.578937</td>\n",
       "      <td>0.518279</td>\n",
       "      <td>-0.114493</td>\n",
       "      <td>-0.969067</td>\n",
       "    </tr>\n",
       "  </tbody>\n",
       "</table>\n",
       "</div>"
      ],
      "text/plain": [
       "   Year Fuel_Type Transmission Owner_Type  Company  Kilometers_Driven_scaled  \\\n",
       "0  2010       CNG       Manual      First   Maruti                  0.378395   \n",
       "1  2015    Diesel       Manual      First  Hyundai                 -0.440073   \n",
       "2  2011    Petrol       Manual      First    Honda                 -0.308062   \n",
       "3  2012    Diesel       Manual      First   Maruti                  0.774428   \n",
       "4  2013    Diesel    Automatic     Second     Audi                 -0.448786   \n",
       "\n",
       "   Mileage_scaled  Engine_scaled  Power_scaled  Seats_scaled  \\\n",
       "0        1.847600      -1.039637     -1.035154     -0.114493   \n",
       "1        0.334976      -0.065155      0.243835     -0.114493   \n",
       "2        0.014116      -0.704242     -0.461075     -0.114493   \n",
       "3        0.575075      -0.622479     -0.459947      0.107177   \n",
       "4       -0.640699       0.578937      0.518279     -0.114493   \n",
       "\n",
       "   cost(in rupees)/km_scaled  \n",
       "0                  -1.443537  \n",
       "1                  -0.153345  \n",
       "2                   0.627225  \n",
       "3                   0.047393  \n",
       "4                  -0.969067  "
      ]
     },
     "execution_count": 72,
     "metadata": {},
     "output_type": "execute_result"
    }
   ],
   "source": [
    "ind_vars.head()"
   ]
  },
  {
   "cell_type": "code",
   "execution_count": 73,
   "metadata": {},
   "outputs": [
    {
     "data": {
      "text/html": [
       "<div>\n",
       "<style scoped>\n",
       "    .dataframe tbody tr th:only-of-type {\n",
       "        vertical-align: middle;\n",
       "    }\n",
       "\n",
       "    .dataframe tbody tr th {\n",
       "        vertical-align: top;\n",
       "    }\n",
       "\n",
       "    .dataframe thead th {\n",
       "        text-align: right;\n",
       "    }\n",
       "</style>\n",
       "<table border=\"1\" class=\"dataframe\">\n",
       "  <thead>\n",
       "    <tr style=\"text-align: right;\">\n",
       "      <th></th>\n",
       "      <th>Price</th>\n",
       "    </tr>\n",
       "  </thead>\n",
       "  <tbody>\n",
       "    <tr>\n",
       "      <th>0</th>\n",
       "      <td>1.75</td>\n",
       "    </tr>\n",
       "    <tr>\n",
       "      <th>1</th>\n",
       "      <td>12.50</td>\n",
       "    </tr>\n",
       "    <tr>\n",
       "      <th>2</th>\n",
       "      <td>4.50</td>\n",
       "    </tr>\n",
       "    <tr>\n",
       "      <th>3</th>\n",
       "      <td>6.00</td>\n",
       "    </tr>\n",
       "    <tr>\n",
       "      <th>4</th>\n",
       "      <td>17.74</td>\n",
       "    </tr>\n",
       "  </tbody>\n",
       "</table>\n",
       "</div>"
      ],
      "text/plain": [
       "   Price\n",
       "0   1.75\n",
       "1  12.50\n",
       "2   4.50\n",
       "3   6.00\n",
       "4  17.74"
      ]
     },
     "execution_count": 73,
     "metadata": {},
     "output_type": "execute_result"
    }
   ],
   "source": [
    "dep_var.head()"
   ]
  },
  {
   "cell_type": "markdown",
   "metadata": {},
   "source": [
    "Everything looks good so far. Now we must encode all of the categorical variables. I will use a function for this:\n",
    "1. (this cell is why the name column is stored as a object type. select_dtypes allows me to exclude it here)"
   ]
  },
  {
   "cell_type": "code",
   "execution_count": 74,
   "metadata": {},
   "outputs": [],
   "source": [
    "def encode_cat_vars(x):\n",
    "    x = pd.get_dummies(\n",
    "        x,\n",
    "        columns=x.select_dtypes(include=[\"category\"]).columns.tolist(),\n",
    "        drop_first=True,\n",
    "    )\n",
    "    return x\n",
    "ind_vars_num = encode_cat_vars(ind_vars)"
   ]
  },
  {
   "cell_type": "code",
   "execution_count": 75,
   "metadata": {},
   "outputs": [
    {
     "data": {
      "text/html": [
       "<div>\n",
       "<style scoped>\n",
       "    .dataframe tbody tr th:only-of-type {\n",
       "        vertical-align: middle;\n",
       "    }\n",
       "\n",
       "    .dataframe tbody tr th {\n",
       "        vertical-align: top;\n",
       "    }\n",
       "\n",
       "    .dataframe thead th {\n",
       "        text-align: right;\n",
       "    }\n",
       "</style>\n",
       "<table border=\"1\" class=\"dataframe\">\n",
       "  <thead>\n",
       "    <tr style=\"text-align: right;\">\n",
       "      <th></th>\n",
       "      <th>Year</th>\n",
       "      <th>Kilometers_Driven_scaled</th>\n",
       "      <th>Mileage_scaled</th>\n",
       "      <th>Engine_scaled</th>\n",
       "      <th>Power_scaled</th>\n",
       "      <th>Seats_scaled</th>\n",
       "      <th>cost(in rupees)/km_scaled</th>\n",
       "      <th>Fuel_Type_Diesel</th>\n",
       "      <th>Fuel_Type_Electric</th>\n",
       "      <th>Fuel_Type_LPG</th>\n",
       "      <th>...</th>\n",
       "      <th>Company_Nissan</th>\n",
       "      <th>Company_Opelcorsa</th>\n",
       "      <th>Company_Porsche</th>\n",
       "      <th>Company_Renault</th>\n",
       "      <th>Company_Skoda</th>\n",
       "      <th>Company_Smart</th>\n",
       "      <th>Company_Tata</th>\n",
       "      <th>Company_Toyota</th>\n",
       "      <th>Company_Volkswagen</th>\n",
       "      <th>Company_Volvo</th>\n",
       "    </tr>\n",
       "  </thead>\n",
       "  <tbody>\n",
       "    <tr>\n",
       "      <th>0</th>\n",
       "      <td>2010</td>\n",
       "      <td>0.378395</td>\n",
       "      <td>1.847600</td>\n",
       "      <td>-1.039637</td>\n",
       "      <td>-1.035154</td>\n",
       "      <td>-0.114493</td>\n",
       "      <td>-1.443537</td>\n",
       "      <td>0</td>\n",
       "      <td>0</td>\n",
       "      <td>0</td>\n",
       "      <td>...</td>\n",
       "      <td>0</td>\n",
       "      <td>0</td>\n",
       "      <td>0</td>\n",
       "      <td>0</td>\n",
       "      <td>0</td>\n",
       "      <td>0</td>\n",
       "      <td>0</td>\n",
       "      <td>0</td>\n",
       "      <td>0</td>\n",
       "      <td>0</td>\n",
       "    </tr>\n",
       "    <tr>\n",
       "      <th>1</th>\n",
       "      <td>2015</td>\n",
       "      <td>-0.440073</td>\n",
       "      <td>0.334976</td>\n",
       "      <td>-0.065155</td>\n",
       "      <td>0.243835</td>\n",
       "      <td>-0.114493</td>\n",
       "      <td>-0.153345</td>\n",
       "      <td>1</td>\n",
       "      <td>0</td>\n",
       "      <td>0</td>\n",
       "      <td>...</td>\n",
       "      <td>0</td>\n",
       "      <td>0</td>\n",
       "      <td>0</td>\n",
       "      <td>0</td>\n",
       "      <td>0</td>\n",
       "      <td>0</td>\n",
       "      <td>0</td>\n",
       "      <td>0</td>\n",
       "      <td>0</td>\n",
       "      <td>0</td>\n",
       "    </tr>\n",
       "    <tr>\n",
       "      <th>2</th>\n",
       "      <td>2011</td>\n",
       "      <td>-0.308062</td>\n",
       "      <td>0.014116</td>\n",
       "      <td>-0.704242</td>\n",
       "      <td>-0.461075</td>\n",
       "      <td>-0.114493</td>\n",
       "      <td>0.627225</td>\n",
       "      <td>0</td>\n",
       "      <td>0</td>\n",
       "      <td>0</td>\n",
       "      <td>...</td>\n",
       "      <td>0</td>\n",
       "      <td>0</td>\n",
       "      <td>0</td>\n",
       "      <td>0</td>\n",
       "      <td>0</td>\n",
       "      <td>0</td>\n",
       "      <td>0</td>\n",
       "      <td>0</td>\n",
       "      <td>0</td>\n",
       "      <td>0</td>\n",
       "    </tr>\n",
       "    <tr>\n",
       "      <th>3</th>\n",
       "      <td>2012</td>\n",
       "      <td>0.774428</td>\n",
       "      <td>0.575075</td>\n",
       "      <td>-0.622479</td>\n",
       "      <td>-0.459947</td>\n",
       "      <td>0.107177</td>\n",
       "      <td>0.047393</td>\n",
       "      <td>1</td>\n",
       "      <td>0</td>\n",
       "      <td>0</td>\n",
       "      <td>...</td>\n",
       "      <td>0</td>\n",
       "      <td>0</td>\n",
       "      <td>0</td>\n",
       "      <td>0</td>\n",
       "      <td>0</td>\n",
       "      <td>0</td>\n",
       "      <td>0</td>\n",
       "      <td>0</td>\n",
       "      <td>0</td>\n",
       "      <td>0</td>\n",
       "    </tr>\n",
       "    <tr>\n",
       "      <th>4</th>\n",
       "      <td>2013</td>\n",
       "      <td>-0.448786</td>\n",
       "      <td>-0.640699</td>\n",
       "      <td>0.578937</td>\n",
       "      <td>0.518279</td>\n",
       "      <td>-0.114493</td>\n",
       "      <td>-0.969067</td>\n",
       "      <td>1</td>\n",
       "      <td>0</td>\n",
       "      <td>0</td>\n",
       "      <td>...</td>\n",
       "      <td>0</td>\n",
       "      <td>0</td>\n",
       "      <td>0</td>\n",
       "      <td>0</td>\n",
       "      <td>0</td>\n",
       "      <td>0</td>\n",
       "      <td>0</td>\n",
       "      <td>0</td>\n",
       "      <td>0</td>\n",
       "      <td>0</td>\n",
       "    </tr>\n",
       "  </tbody>\n",
       "</table>\n",
       "<p>5 rows × 46 columns</p>\n",
       "</div>"
      ],
      "text/plain": [
       "   Year  Kilometers_Driven_scaled  Mileage_scaled  Engine_scaled  \\\n",
       "0  2010                  0.378395        1.847600      -1.039637   \n",
       "1  2015                 -0.440073        0.334976      -0.065155   \n",
       "2  2011                 -0.308062        0.014116      -0.704242   \n",
       "3  2012                  0.774428        0.575075      -0.622479   \n",
       "4  2013                 -0.448786       -0.640699       0.578937   \n",
       "\n",
       "   Power_scaled  Seats_scaled  cost(in rupees)/km_scaled  Fuel_Type_Diesel  \\\n",
       "0     -1.035154     -0.114493                  -1.443537                 0   \n",
       "1      0.243835     -0.114493                  -0.153345                 1   \n",
       "2     -0.461075     -0.114493                   0.627225                 0   \n",
       "3     -0.459947      0.107177                   0.047393                 1   \n",
       "4      0.518279     -0.114493                  -0.969067                 1   \n",
       "\n",
       "   Fuel_Type_Electric  Fuel_Type_LPG  ...  Company_Nissan  Company_Opelcorsa  \\\n",
       "0                   0              0  ...               0                  0   \n",
       "1                   0              0  ...               0                  0   \n",
       "2                   0              0  ...               0                  0   \n",
       "3                   0              0  ...               0                  0   \n",
       "4                   0              0  ...               0                  0   \n",
       "\n",
       "   Company_Porsche  Company_Renault  Company_Skoda  Company_Smart  \\\n",
       "0                0                0              0              0   \n",
       "1                0                0              0              0   \n",
       "2                0                0              0              0   \n",
       "3                0                0              0              0   \n",
       "4                0                0              0              0   \n",
       "\n",
       "   Company_Tata  Company_Toyota  Company_Volkswagen  Company_Volvo  \n",
       "0             0               0                   0              0  \n",
       "1             0               0                   0              0  \n",
       "2             0               0                   0              0  \n",
       "3             0               0                   0              0  \n",
       "4             0               0                   0              0  \n",
       "\n",
       "[5 rows x 46 columns]"
      ]
     },
     "execution_count": 75,
     "metadata": {},
     "output_type": "execute_result"
    }
   ],
   "source": [
    "ind_vars_num.head()"
   ]
  },
  {
   "cell_type": "code",
   "execution_count": 76,
   "metadata": {},
   "outputs": [
    {
     "data": {
      "text/plain": [
       "(6018, 46)"
      ]
     },
     "execution_count": 76,
     "metadata": {},
     "output_type": "execute_result"
    }
   ],
   "source": [
    "ind_vars_num.shape"
   ]
  },
  {
   "cell_type": "markdown",
   "metadata": {},
   "source": [
    "Everything looks good, now we must split the data into a train and test set."
   ]
  },
  {
   "cell_type": "code",
   "execution_count": 77,
   "metadata": {},
   "outputs": [],
   "source": [
    "from sklearn.model_selection import train_test_split\n",
    "\n",
    "x_train, x_test, y_train, y_test = train_test_split(\n",
    "    ind_vars_num, dep_var, test_size=0.3, random_state=1)"
   ]
  },
  {
   "cell_type": "markdown",
   "metadata": {},
   "source": [
    "## Fitting Linear Model"
   ]
  },
  {
   "cell_type": "code",
   "execution_count": 78,
   "metadata": {},
   "outputs": [
    {
     "data": {
      "text/plain": [
       "LinearRegression()"
      ]
     },
     "execution_count": 78,
     "metadata": {},
     "output_type": "execute_result"
    }
   ],
   "source": [
    "lin_reg_model = LinearRegression()\n",
    "lin_reg_model.fit(x_train, y_train)"
   ]
  },
  {
   "cell_type": "code",
   "execution_count": 79,
   "metadata": {},
   "outputs": [
    {
     "name": "stdout",
     "output_type": "stream",
     "text": [
      "<class 'pandas.core.frame.DataFrame'>\n",
      "Int64Index: 6018 entries, 0 to 6018\n",
      "Data columns (total 14 columns):\n",
      " #   Column                     Non-Null Count  Dtype   \n",
      "---  ------                     --------------  -----   \n",
      " 0   Name                       6018 non-null   object  \n",
      " 1   Location                   6018 non-null   category\n",
      " 2   Year                       6018 non-null   int64   \n",
      " 3   Fuel_Type                  6018 non-null   category\n",
      " 4   Transmission               6018 non-null   category\n",
      " 5   Owner_Type                 6018 non-null   category\n",
      " 6   Price                      6018 non-null   float64 \n",
      " 7   Company                    6018 non-null   category\n",
      " 8   Kilometers_Driven_scaled   6018 non-null   float64 \n",
      " 9   Mileage_scaled             6018 non-null   float64 \n",
      " 10  Engine_scaled              6018 non-null   float64 \n",
      " 11  Power_scaled               6018 non-null   float64 \n",
      " 12  Seats_scaled               6018 non-null   float64 \n",
      " 13  cost(in rupees)/km_scaled  6018 non-null   float64 \n",
      "dtypes: category(5), float64(7), int64(1), object(1)\n",
      "memory usage: 501.9+ KB\n"
     ]
    }
   ],
   "source": [
    "data.info()"
   ]
  },
  {
   "cell_type": "code",
   "execution_count": 80,
   "metadata": {},
   "outputs": [
    {
     "data": {
      "text/html": [
       "<div>\n",
       "<style scoped>\n",
       "    .dataframe tbody tr th:only-of-type {\n",
       "        vertical-align: middle;\n",
       "    }\n",
       "\n",
       "    .dataframe tbody tr th {\n",
       "        vertical-align: top;\n",
       "    }\n",
       "\n",
       "    .dataframe thead th {\n",
       "        text-align: right;\n",
       "    }\n",
       "</style>\n",
       "<table border=\"1\" class=\"dataframe\">\n",
       "  <thead>\n",
       "    <tr style=\"text-align: right;\">\n",
       "      <th></th>\n",
       "      <th>Coefficients</th>\n",
       "    </tr>\n",
       "  </thead>\n",
       "  <tbody>\n",
       "    <tr>\n",
       "      <th>Year</th>\n",
       "      <td>9.451337e-01</td>\n",
       "    </tr>\n",
       "    <tr>\n",
       "      <th>Kilometers_Driven_scaled</th>\n",
       "      <td>-5.806226e-01</td>\n",
       "    </tr>\n",
       "    <tr>\n",
       "      <th>Mileage_scaled</th>\n",
       "      <td>-3.764946e+00</td>\n",
       "    </tr>\n",
       "    <tr>\n",
       "      <th>Engine_scaled</th>\n",
       "      <td>1.238442e+00</td>\n",
       "    </tr>\n",
       "    <tr>\n",
       "      <th>Power_scaled</th>\n",
       "      <td>4.352351e+00</td>\n",
       "    </tr>\n",
       "    <tr>\n",
       "      <th>Seats_scaled</th>\n",
       "      <td>-3.250373e-04</td>\n",
       "    </tr>\n",
       "    <tr>\n",
       "      <th>cost(in rupees)/km_scaled</th>\n",
       "      <td>3.512487e+00</td>\n",
       "    </tr>\n",
       "    <tr>\n",
       "      <th>Fuel_Type_Diesel</th>\n",
       "      <td>-9.377741e+00</td>\n",
       "    </tr>\n",
       "    <tr>\n",
       "      <th>Fuel_Type_Electric</th>\n",
       "      <td>-2.968079e+00</td>\n",
       "    </tr>\n",
       "    <tr>\n",
       "      <th>Fuel_Type_LPG</th>\n",
       "      <td>-4.067734e+00</td>\n",
       "    </tr>\n",
       "    <tr>\n",
       "      <th>Fuel_Type_Petrol</th>\n",
       "      <td>-1.444967e+01</td>\n",
       "    </tr>\n",
       "    <tr>\n",
       "      <th>Transmission_Manual</th>\n",
       "      <td>9.682070e-02</td>\n",
       "    </tr>\n",
       "    <tr>\n",
       "      <th>Owner_Type_Fourth &amp; Above</th>\n",
       "      <td>-5.006870e-01</td>\n",
       "    </tr>\n",
       "    <tr>\n",
       "      <th>Owner_Type_Second</th>\n",
       "      <td>-2.640954e-01</td>\n",
       "    </tr>\n",
       "    <tr>\n",
       "      <th>Owner_Type_Third</th>\n",
       "      <td>9.879794e-01</td>\n",
       "    </tr>\n",
       "    <tr>\n",
       "      <th>Company_Audi</th>\n",
       "      <td>1.553140e+00</td>\n",
       "    </tr>\n",
       "    <tr>\n",
       "      <th>Company_Bentley</th>\n",
       "      <td>6.405966e+00</td>\n",
       "    </tr>\n",
       "    <tr>\n",
       "      <th>Company_Bmw</th>\n",
       "      <td>2.630638e-01</td>\n",
       "    </tr>\n",
       "    <tr>\n",
       "      <th>Company_Chevrolet</th>\n",
       "      <td>-7.879062e+00</td>\n",
       "    </tr>\n",
       "    <tr>\n",
       "      <th>Company_Datsun</th>\n",
       "      <td>-9.524912e+00</td>\n",
       "    </tr>\n",
       "    <tr>\n",
       "      <th>Company_Fiat</th>\n",
       "      <td>-8.398224e+00</td>\n",
       "    </tr>\n",
       "    <tr>\n",
       "      <th>Company_Force</th>\n",
       "      <td>-1.041554e+01</td>\n",
       "    </tr>\n",
       "    <tr>\n",
       "      <th>Company_Ford</th>\n",
       "      <td>-7.019196e+00</td>\n",
       "    </tr>\n",
       "    <tr>\n",
       "      <th>Company_Hindustan</th>\n",
       "      <td>1.243450e-14</td>\n",
       "    </tr>\n",
       "    <tr>\n",
       "      <th>Company_Honda</th>\n",
       "      <td>-8.453289e+00</td>\n",
       "    </tr>\n",
       "    <tr>\n",
       "      <th>Company_Hyundai</th>\n",
       "      <td>-7.610685e+00</td>\n",
       "    </tr>\n",
       "    <tr>\n",
       "      <th>Company_Isuzu</th>\n",
       "      <td>-1.158290e+01</td>\n",
       "    </tr>\n",
       "    <tr>\n",
       "      <th>Company_Jaguar</th>\n",
       "      <td>8.564390e+00</td>\n",
       "    </tr>\n",
       "    <tr>\n",
       "      <th>Company_Jeep</th>\n",
       "      <td>-7.360946e+00</td>\n",
       "    </tr>\n",
       "    <tr>\n",
       "      <th>Company_Lamborghini</th>\n",
       "      <td>6.208993e+01</td>\n",
       "    </tr>\n",
       "    <tr>\n",
       "      <th>Company_Land</th>\n",
       "      <td>1.042538e+01</td>\n",
       "    </tr>\n",
       "    <tr>\n",
       "      <th>Company_Mahindra</th>\n",
       "      <td>-1.051117e+01</td>\n",
       "    </tr>\n",
       "    <tr>\n",
       "      <th>Company_Maruti</th>\n",
       "      <td>-6.451728e+00</td>\n",
       "    </tr>\n",
       "    <tr>\n",
       "      <th>Company_Mercedes-benz</th>\n",
       "      <td>2.546798e+00</td>\n",
       "    </tr>\n",
       "    <tr>\n",
       "      <th>Company_Mini</th>\n",
       "      <td>7.808284e+00</td>\n",
       "    </tr>\n",
       "    <tr>\n",
       "      <th>Company_Mitsubishi</th>\n",
       "      <td>-7.334040e+00</td>\n",
       "    </tr>\n",
       "    <tr>\n",
       "      <th>Company_Nissan</th>\n",
       "      <td>-7.944685e+00</td>\n",
       "    </tr>\n",
       "    <tr>\n",
       "      <th>Company_Opelcorsa</th>\n",
       "      <td>-1.776357e-15</td>\n",
       "    </tr>\n",
       "    <tr>\n",
       "      <th>Company_Porsche</th>\n",
       "      <td>8.805360e+00</td>\n",
       "    </tr>\n",
       "    <tr>\n",
       "      <th>Company_Renault</th>\n",
       "      <td>-8.387988e+00</td>\n",
       "    </tr>\n",
       "    <tr>\n",
       "      <th>Company_Skoda</th>\n",
       "      <td>-7.962029e+00</td>\n",
       "    </tr>\n",
       "    <tr>\n",
       "      <th>Company_Smart</th>\n",
       "      <td>-8.621822e+00</td>\n",
       "    </tr>\n",
       "    <tr>\n",
       "      <th>Company_Tata</th>\n",
       "      <td>-8.610692e+00</td>\n",
       "    </tr>\n",
       "    <tr>\n",
       "      <th>Company_Toyota</th>\n",
       "      <td>-6.802241e+00</td>\n",
       "    </tr>\n",
       "    <tr>\n",
       "      <th>Company_Volkswagen</th>\n",
       "      <td>-8.266064e+00</td>\n",
       "    </tr>\n",
       "    <tr>\n",
       "      <th>Company_Volvo</th>\n",
       "      <td>-4.645730e+00</td>\n",
       "    </tr>\n",
       "    <tr>\n",
       "      <th>Intercept</th>\n",
       "      <td>-1.875928e+03</td>\n",
       "    </tr>\n",
       "  </tbody>\n",
       "</table>\n",
       "</div>"
      ],
      "text/plain": [
       "                           Coefficients\n",
       "Year                       9.451337e-01\n",
       "Kilometers_Driven_scaled  -5.806226e-01\n",
       "Mileage_scaled            -3.764946e+00\n",
       "Engine_scaled              1.238442e+00\n",
       "Power_scaled               4.352351e+00\n",
       "Seats_scaled              -3.250373e-04\n",
       "cost(in rupees)/km_scaled  3.512487e+00\n",
       "Fuel_Type_Diesel          -9.377741e+00\n",
       "Fuel_Type_Electric        -2.968079e+00\n",
       "Fuel_Type_LPG             -4.067734e+00\n",
       "Fuel_Type_Petrol          -1.444967e+01\n",
       "Transmission_Manual        9.682070e-02\n",
       "Owner_Type_Fourth & Above -5.006870e-01\n",
       "Owner_Type_Second         -2.640954e-01\n",
       "Owner_Type_Third           9.879794e-01\n",
       "Company_Audi               1.553140e+00\n",
       "Company_Bentley            6.405966e+00\n",
       "Company_Bmw                2.630638e-01\n",
       "Company_Chevrolet         -7.879062e+00\n",
       "Company_Datsun            -9.524912e+00\n",
       "Company_Fiat              -8.398224e+00\n",
       "Company_Force             -1.041554e+01\n",
       "Company_Ford              -7.019196e+00\n",
       "Company_Hindustan          1.243450e-14\n",
       "Company_Honda             -8.453289e+00\n",
       "Company_Hyundai           -7.610685e+00\n",
       "Company_Isuzu             -1.158290e+01\n",
       "Company_Jaguar             8.564390e+00\n",
       "Company_Jeep              -7.360946e+00\n",
       "Company_Lamborghini        6.208993e+01\n",
       "Company_Land               1.042538e+01\n",
       "Company_Mahindra          -1.051117e+01\n",
       "Company_Maruti            -6.451728e+00\n",
       "Company_Mercedes-benz      2.546798e+00\n",
       "Company_Mini               7.808284e+00\n",
       "Company_Mitsubishi        -7.334040e+00\n",
       "Company_Nissan            -7.944685e+00\n",
       "Company_Opelcorsa         -1.776357e-15\n",
       "Company_Porsche            8.805360e+00\n",
       "Company_Renault           -8.387988e+00\n",
       "Company_Skoda             -7.962029e+00\n",
       "Company_Smart             -8.621822e+00\n",
       "Company_Tata              -8.610692e+00\n",
       "Company_Toyota            -6.802241e+00\n",
       "Company_Volkswagen        -8.266064e+00\n",
       "Company_Volvo             -4.645730e+00\n",
       "Intercept                 -1.875928e+03"
      ]
     },
     "execution_count": 80,
     "metadata": {},
     "output_type": "execute_result"
    }
   ],
   "source": [
    "#create a dataframe of coefficients and intercept in the model.\n",
    "coef_df = pd.DataFrame(\n",
    "    np.append(lin_reg_model.coef_.flatten(), lin_reg_model.intercept_),\n",
    "    index=x_train.columns.tolist() + [\"Intercept\"],\n",
    "    columns=[\"Coefficients\"],\n",
    ")\n",
    "coef_df"
   ]
  },
  {
   "cell_type": "markdown",
   "metadata": {},
   "source": [
    "Because all features are scaled and a linear model was used, these values can be interpretted as such (taking the first row (year) as an example):\n",
    "---if the year of the car is increased by 1 then the price of the car will increase by 0.945 lakhs\n",
    "\n",
    "\n",
    "Notable coefficients are:\n",
    "1. Mileage_scaled\n",
    "2. Engine_scaled\n",
    "3. Power_scaled\t\n",
    "4. Fuel_Type_Petrol\n",
    "5. Well known car company coefficients tend to be higher\n",
    "\n",
    "Coefficients which are not useful:\n",
    "1. Company_Opelcorsa\n",
    "2. Company_Hindustan\n",
    "3. Seats_scaled"
   ]
  },
  {
   "cell_type": "markdown",
   "metadata": {},
   "source": [
    "## Model Performance Evaluation"
   ]
  },
  {
   "cell_type": "code",
   "execution_count": 81,
   "metadata": {},
   "outputs": [],
   "source": [
    "#a function to calculate the adjusted R^2\n",
    "# Adjusted R^2\n",
    "def adj_r2(ind_vars, targets, predictions):\n",
    "    r2 = r2_score(targets, predictions)\n",
    "    n = ind_vars.shape[0]\n",
    "    k = ind_vars.shape[1]\n",
    "    return 1 - ((1 - r2) * (n - 1) / (n - k - 1))\n",
    "\n",
    "#a function to output the results of model evaluation in the form of a pandas dataframe\n",
    "# Model performance check\n",
    "#credit to:Yash Saxena,pgpaiml\n",
    "def model_perf(model, inp, out):\n",
    "\n",
    "    y_pred = model.predict(inp)\n",
    "    y_act = out.values\n",
    "\n",
    "    return pd.DataFrame(\n",
    "        {#Dictionary\n",
    "            \"RMSE\": np.sqrt(mean_squared_error(y_act, y_pred)),\n",
    "            \"MAE\": mean_absolute_error(y_act, y_pred),\n",
    "            \"R^2\": r2_score(y_act, y_pred),\n",
    "            \"Adjusted R^2\": adj_r2(inp, y_act, y_pred),\n",
    "        },\n",
    "        index=[0],\n",
    "    )"
   ]
  },
  {
   "cell_type": "code",
   "execution_count": 82,
   "metadata": {},
   "outputs": [
    {
     "name": "stdout",
     "output_type": "stream",
     "text": [
      "Training Performance\n",
      "\n",
      "       RMSE      MAE       R^2  Adjusted R^2\n",
      "0  5.330553  2.98145  0.772363      0.769849\n"
     ]
    }
   ],
   "source": [
    "print(\"Training Performance\\n\")\n",
    "print(model_perf(lin_reg_model, x_train, y_train))"
   ]
  },
  {
   "cell_type": "code",
   "execution_count": 83,
   "metadata": {},
   "outputs": [
    {
     "name": "stdout",
     "output_type": "stream",
     "text": [
      "Test Performance\n",
      "\n",
      "       RMSE       MAE       R^2  Adjusted R^2\n",
      "0  5.339964  2.892905  0.770429      0.764425\n"
     ]
    }
   ],
   "source": [
    "print(\"Test Performance\\n\")\n",
    "print(model_perf(lin_reg_model, x_test, y_test))"
   ]
  },
  {
   "cell_type": "markdown",
   "metadata": {},
   "source": [
    "Comment on the performance measures and if there is any need to improve the model or not:\n",
    "1. The training performance and test performance are very similar. This indicates that the model is not overfitting\n",
    "2. The model shows an R^2 of 77.2% in training and 76.9% in testing which means it explains about 77.2% and 76.9% of the variation in the train and test sets respectively. It is also good that these scores are comparable.\n",
    "3. The MAE shows that our price prediction are off by about 2.9 lakh rupees on average. Which is kind of a lot.\n",
    "4. Overall the model could use some improvements.\n",
    "\n",
    "Author comments on improvements:\n",
    "1. If the dealer is not interested in the dealing of supercars, many cars could be dropped from the data set and the model retrained so that many outliers are no longer present. This could allow for a more accurate model. \n",
    "2. Even if the dealer is interested in dealing with supercars, I think two seperate models are neccessary here simply because price values in super and non super cars are so drastically different it is very difficult to model them with a straight line.\n",
    "3. A curved fit could be used to increase model performance, but would have to be very careful of overfitting."
   ]
  },
  {
   "cell_type": "markdown",
   "metadata": {},
   "source": [
    "# Conclusions"
   ]
  },
  {
   "cell_type": "markdown",
   "metadata": {},
   "source": [
    "1. A predictive model has been built that can be used by used car dealerships in india to predict the average resale value of a car with an R^2 value of 0.772 on the training set.\n",
    "2. This model can be used to predict car prices with a mean error of 2.89 lakhs\n",
    "3. The factors that tend to affect car price most are the Power output of the engine, Engine displacement, Fuel Type, and Company name.\n",
    "4. Using non linear transformations on some of the features may allow better prices to be predicted."
   ]
  },
  {
   "cell_type": "markdown",
   "metadata": {},
   "source": [
    "# Actionable Insights & Recommendations"
   ]
  },
  {
   "cell_type": "markdown",
   "metadata": {},
   "source": [
    "In order to grow the buisness, I would reccomend the following:\n",
    "1. Primarily look to purchase cars below the predicted price, so that it may be sold for a profit\n",
    "2. Avoid cars with Fuel_Type as LPG or CNG as these cars sell for less and because there are not many of them, are also probably undesirable.\n",
    "3. Only attempt to resell cars with 2 or less previous owners. \n",
    "4. Well known car brands are sold for more, and also most probably easier to sell.\n",
    "5. Attempt to purchase and resell cars that have an Engine with high displacement, as these sell for more.\n",
    "6. Attempt to purchase and resell cars that have an Engine with high power output, as these sell for more."
   ]
  },
  {
   "cell_type": "markdown",
   "metadata": {},
   "source": [
    "*Some functions used in Model Building were presented by Yash Saxena (pgpaiml) during a case study, and are used here."
   ]
  }
 ],
 "metadata": {
  "kernelspec": {
   "display_name": "Python 3",
   "language": "python",
   "name": "python3"
  },
  "language_info": {
   "codemirror_mode": {
    "name": "ipython",
    "version": 3
   },
   "file_extension": ".py",
   "mimetype": "text/x-python",
   "name": "python",
   "nbconvert_exporter": "python",
   "pygments_lexer": "ipython3",
   "version": "3.8.5"
  }
 },
 "nbformat": 4,
 "nbformat_minor": 4
}
